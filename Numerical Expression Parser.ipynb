{
 "cells": [
  {
   "cell_type": "markdown",
   "id": "ancient-hungary",
   "metadata": {},
   "source": [
    "# Simple Expression Parser\n",
    "Implementation of a simple mathematical expression parser. This implements a Stack class which extends a Linkedist, to perform postfix evaluation (1 2 + = ?), then infix evaluation (1 + 2 = ?)."
   ]
  },
  {
   "cell_type": "code",
   "execution_count": 1,
   "id": "numerical-german",
   "metadata": {},
   "outputs": [],
   "source": [
    "class Node():\n",
    "    def __init__(self,data):\n",
    "        self.data = data\n",
    "        self.next = None\n",
    "        self.prev = None"
   ]
  },
  {
   "cell_type": "code",
   "execution_count": 2,
   "id": "included-quebec",
   "metadata": {},
   "outputs": [],
   "source": [
    "class LinkedList():\n",
    "    \n",
    "    def __init__(self):\n",
    "        self.head = None\n",
    "        self.tail = None\n",
    "        self.length = 0\n",
    "        \n",
    "    def append(self, data):\n",
    "        new_node = Node(data)\n",
    "        if self.length == 0:\n",
    "            self.head = self.tail = new_node\n",
    "        else:\n",
    "            self.tail.next = new_node\n",
    "            new_node.prev = self.tail\n",
    "            self.tail = new_node\n",
    "        self.length += 1\n",
    "        \n",
    "    def __iter__(self):\n",
    "        self._iter_node = self.head\n",
    "        return self \n",
    "    \n",
    "    def __next__(self):\n",
    "        if self._iter_node is None:\n",
    "            raise StopIteration\n",
    "        ret = self._iter_node.data\n",
    "        self._iter_node = self._iter_node.next\n",
    "        return ret\n",
    "    \n",
    "    def prepend(self, data):\n",
    "        new_node = Node(data)\n",
    "        if self.length == 0:\n",
    "            self.head = self.tail = new_node\n",
    "        else:\n",
    "            self.head.prev = new_node\n",
    "            new_node.next = self.head\n",
    "            self.head = new_node\n",
    "        self.length += 1\n",
    "        \n",
    "    def __len__(self):\n",
    "        return self.length\n",
    "    \n",
    "    # Add __str__() method here\n",
    "    def __str__(self):\n",
    "        py_list = [x for x in self]\n",
    "        return str(py_list)"
   ]
  },
  {
   "cell_type": "code",
   "execution_count": 3,
   "id": "elder-powder",
   "metadata": {},
   "outputs": [],
   "source": [
    "class Stack(LinkedList):\n",
    "    def push(self, data):\n",
    "        self.append(data)\n",
    "    def peek(self):\n",
    "        return self.tail.data\n",
    "    def pop(self):\n",
    "        ret = self.tail.data\n",
    "        if self.length == 1:\n",
    "            self.tail = self.head = None\n",
    "        else:\n",
    "            self.tail = self.tail.prev\n",
    "            self.tail.next = None\n",
    "        self.length -= 1\n",
    "        return ret"
   ]
  },
  {
   "cell_type": "code",
   "execution_count": 4,
   "id": "ethical-emission",
   "metadata": {},
   "outputs": [],
   "source": [
    "# First a tokenizer - assume there will be spaces\n",
    "def tokenizer(token_str):\n",
    "    return (token_str.split())"
   ]
  },
  {
   "cell_type": "code",
   "execution_count": 5,
   "id": "outstanding-lecture",
   "metadata": {},
   "outputs": [
    {
     "name": "stdout",
     "output_type": "stream",
     "text": [
      "['12', '2', '4', '+', '/', '21', '*']\n"
     ]
    }
   ],
   "source": [
    "expression = \"12 2 4 + / 21 *\"\n",
    "print(tokenizer(expression))"
   ]
  },
  {
   "cell_type": "code",
   "execution_count": 6,
   "id": "beautiful-louis",
   "metadata": {},
   "outputs": [],
   "source": [
    "# Add processing for each operator.\n",
    "# These all implement an infix expression where the right side is stack[top] and left side is stack[second from top]\n",
    "# A minus function:\n",
    "def process_minus(stack):\n",
    "    top = stack.pop()\n",
    "    second_to_top = stack.pop()\n",
    "    result = second_to_top - top\n",
    "    stack.push(result)\n",
    "        \n",
    "# A plus function:\n",
    "def process_plus(stack):\n",
    "    top = stack.pop()\n",
    "    second_to_top = stack.pop()\n",
    "    result = second_to_top + top\n",
    "    stack.push(result)\n",
    "\n",
    "# A times function:\n",
    "def process_times(stack):\n",
    "    top = stack.pop()\n",
    "    second_to_top = stack.pop()\n",
    "    result = second_to_top * top\n",
    "    stack.push(result)\n",
    "        \n",
    "# A divide function:\n",
    "def process_divide(stack):\n",
    "    top = stack.pop()\n",
    "    second_to_top = stack.pop()\n",
    "    result = second_to_top / top\n",
    "    stack.push(result)\n",
    "        \n",
    "# A power function:\n",
    "def process_power(stack):\n",
    "    top = stack.pop()\n",
    "    second_to_top = stack.pop()\n",
    "    result = second_to_top ** top\n",
    "    stack.push(result)"
   ]
  },
  {
   "cell_type": "code",
   "execution_count": 7,
   "id": "characteristic-outside",
   "metadata": {},
   "outputs": [
    {
     "name": "stdout",
     "output_type": "stream",
     "text": [
      "1 - 2 = -1\n",
      "5 - 5 = 0\n",
      "0 - 10 = -10\n",
      "1 + 2 = 3\n",
      "5 + 5 = 10\n",
      "0 + 10 = 10\n",
      "1 * 2 = 2\n",
      "5 * 5 = 25\n",
      "0 * 10 = 0\n",
      "1 / 2 = 0.5\n",
      "5 / 5 = 1.0\n",
      "0 / 10 = 0.0\n",
      "1 ** 2 = 1\n",
      "5 ** 5 = 3125\n",
      "0 ** 10 = 0\n"
     ]
    }
   ],
   "source": [
    "stack = Stack()\n",
    "for sign, func in ('-', process_minus), ('+', process_plus), ('*', process_times), \\\n",
    "                  ('/', process_divide), ('**', process_power):\n",
    "    for x,y in (1,2), (5,5), (0, 10):\n",
    "        print (x, sign, y, '=', end=' ')\n",
    "        stack.push (x); stack.push (y)\n",
    "        func(stack)\n",
    "        print (stack.pop())"
   ]
  },
  {
   "cell_type": "code",
   "execution_count": 8,
   "id": "fuzzy-louisiana",
   "metadata": {},
   "outputs": [],
   "source": [
    "expression = \"12 2 4 + / 21 *\"\n",
    "\n"
   ]
  },
  {
   "cell_type": "code",
   "execution_count": 9,
   "id": "amber-creek",
   "metadata": {},
   "outputs": [],
   "source": [
    "def evaluate_postfix(expression):\n",
    "    process_funcs = {'-':process_minus,  \\\n",
    "                     '+':process_plus,   \\\n",
    "                     '*':process_times,  \\\n",
    "                     '/':process_divide, \\\n",
    "                     '**':process_power}\n",
    "\n",
    "    tokens = tokenizer(expression)\n",
    "    operating_stack = Stack()\n",
    "    result = None\n",
    "\n",
    "    for token in tokens:\n",
    "        if token in process_funcs:\n",
    "            process_funcs[token](operating_stack)\n",
    "        else:\n",
    "            operating_stack.push(float(token))\n",
    "    return operating_stack.pop()"
   ]
  },
  {
   "cell_type": "code",
   "execution_count": 10,
   "id": "regulation-medicare",
   "metadata": {},
   "outputs": [
    {
     "name": "stdout",
     "output_type": "stream",
     "text": [
      "4 6 - -> -2.0\n",
      "4 1 2 9 3 / * + 5 - * -> 8.0\n",
      "1 2 + 3 - -> 0.0\n",
      "1 2 - 3 + -> 2.0\n",
      "10 3 5 * 16 4 - / + -> 11.25\n",
      "5 3 4 2 - ** * -> 45.0\n",
      "12 2 4 + / 21 * -> 42.0\n",
      "1 1 + 2 ** -> 4.0\n",
      "1 1 2 ** + -> 2.0\n"
     ]
    }
   ],
   "source": [
    "expressions = [\n",
    "    \"4 6 -\",\n",
    "    \"4 1 2 9 3 / * + 5 - *\",\n",
    "    \"1 2 + 3 -\",\n",
    "    \"1 2 - 3 +\",\n",
    "    \"10 3 5 * 16 4 - / +\",\n",
    "    \"5 3 4 2 - ** *\",\n",
    "    \"12 2 4 + / 21 *\",\n",
    "    \"1 1 + 2 **\",\n",
    "    \"1 1 2 ** +\"\n",
    "]\n",
    "for expr in expressions:\n",
    "    print (expr, '->', evaluate_postfix(expr))"
   ]
  },
  {
   "cell_type": "markdown",
   "id": "unauthorized-international",
   "metadata": {},
   "source": [
    "## 'Infix' evaluation\n",
    "We'll now implement a ['Shunting-yard' algorithm](https://en.wikipedia.org/wiki/Shunting-yard_algorithm) to convert from an infix to a postfix expression. For example from: ```4 - 6``` to ```4 6 -```."
   ]
  },
  {
   "cell_type": "code",
   "execution_count": 11,
   "id": "theoretical-evening",
   "metadata": {},
   "outputs": [
    {
     "name": "stdout",
     "output_type": "stream",
     "text": [
      "True\n",
      "False\n",
      "True\n"
     ]
    }
   ],
   "source": [
    "# Set up precedence of operators:\n",
    "precedence = {'+':2, '-':2, '*':3, '/':3, '**':4, '^':4}\n",
    "print(precedence[\"+\"] < precedence[\"*\"])\n",
    "print(precedence[\"+\"] < precedence[\"-\"])\n",
    "print(precedence[\"/\"] < precedence[\"**\"])"
   ]
  },
  {
   "cell_type": "markdown",
   "id": "systematic-sheep",
   "metadata": {},
   "source": [
    "Here's how processing should go for each token:\n",
    "\n",
    "Opening parenthesis, (:\n",
    "- Push the token into the stack for later use when we find a closing parenthesis.\n",
    "\n",
    "Closing parenthesis ):\n",
    "- While the top of the stack isn't an opening parenthesis, (, pop the top element, and append it to the postfix token list.\n",
    "- Pop the opening parentheses out of the stack at the end.\n",
    "\n",
    "Operator, +, -, \\*, /, or \\**\n",
    "- While the top of the stack is also an operator with a precedence greater than or equal to this operator, pop the top element, and append it to the postfix token list.\n",
    "- Push the current operator to the top of the stack.\n",
    "\n",
    "Operand (any number):\n",
    "- Append the number to the postfix token list.\n",
    "\n",
    "After having processed all tokens, the stack may not be empty, so then pop any remaining operators into the postfix list."
   ]
  },
  {
   "cell_type": "code",
   "execution_count": 12,
   "id": "precious-coverage",
   "metadata": {},
   "outputs": [],
   "source": [
    "# Open bracket function:\n",
    "def process_open_bracket(stack):\n",
    "    stack.push(\"(\")\n",
    "    \n",
    "# Close bracket function:\n",
    "def process_close_bracket(stack, postfix):\n",
    "    # Pop everything off the stack onto the postfix token list, until we get to \"(\"\n",
    "    while stack.peek() != \"(\":\n",
    "        postfix.append(stack.pop())\n",
    "    # Now there should be a \"(\" left on the stack to throw away\n",
    "    stack.pop()\n",
    "    \n",
    "def process_operator(stack, postfix, operator):\n",
    "    while len(stack) > 0 and stack.peek() in precedence and \\\n",
    "          precedence[stack.peek()] >= precedence[operator]:\n",
    "        # Pop the top of the stack into the postfix list\n",
    "        postfix.append(stack.pop())\n",
    "    stack.push(operator)\n",
    "    \n",
    "def process_number(postfix, number):\n",
    "    postfix.append(number)"
   ]
  },
  {
   "cell_type": "code",
   "execution_count": 13,
   "id": "turned-profit",
   "metadata": {},
   "outputs": [],
   "source": [
    "def infix_to_postfix(infix):\n",
    "    stack = Stack()\n",
    "    postfix = []\n",
    "    for token in tokenizer(infix):\n",
    "        if token == \"(\":\n",
    "            process_open_bracket(stack)\n",
    "        elif token == \")\":\n",
    "            process_close_bracket(stack, postfix)\n",
    "        elif token in precedence:\n",
    "            process_operator(stack, postfix, token)\n",
    "        else:\n",
    "            # Assume number\n",
    "            process_number(postfix, token)\n",
    "        \n",
    "    while len(stack):\n",
    "        postfix.append(stack.pop())\n",
    "    \n",
    "    return \" \".join(postfix)"
   ]
  },
  {
   "cell_type": "code",
   "execution_count": 14,
   "id": "concrete-worry",
   "metadata": {},
   "outputs": [],
   "source": [
    "def evaluate(expression):\n",
    "    postfix_expression = infix_to_postfix(expression)\n",
    "    return evaluate_postfix(postfix_expression)\n"
   ]
  },
  {
   "cell_type": "code",
   "execution_count": 15,
   "id": "minimal-multiple",
   "metadata": {},
   "outputs": [
    {
     "name": "stdout",
     "output_type": "stream",
     "text": [
      "1 + 1 -> 2.0\n",
      "1 * ( 2 - ( 1 + 1 ) ) -> 0.0\n",
      "4 * ( 1 + 2 * ( 9 / 3 ) - 5 ) -> 8.0\n",
      "10 + 3 * 5 / ( 16 - 4 * 1 ) -> 11.25\n",
      "2 * 2 * 2 * 2 * 2 * 2 * 2 * 2 -> 256.0\n",
      "2 ** 2 ** 2 ** 2 ** 2 -> 65536.0\n",
      "( 1 - 2 ) / ( 3 - 5 ) -> 0.5\n",
      "9 / 8 * 8 -> 9.0\n",
      "64 / ( 8 * 8 ) -> 1.0\n"
     ]
    }
   ],
   "source": [
    "expressions = [\n",
    "    \"1 + 1\",\n",
    "    \"1 * ( 2 - ( 1 + 1 ) )\",\n",
    "    \"4 * ( 1 + 2 * ( 9 / 3 ) - 5 )\",\n",
    "    \"10 + 3 * 5 / ( 16 - 4 * 1 )\",\n",
    "    \"2 * 2 * 2 * 2 * 2 * 2 * 2 * 2\",\n",
    "    \"2 ** 2 ** 2 ** 2 ** 2\",\n",
    "    \"( 1 - 2 ) / ( 3 - 5 )\",\n",
    "    \"9 / 8 * 8\",\n",
    "    \"64 / ( 8 * 8 )\",\n",
    "]\n",
    "\n",
    "for expr in expressions:\n",
    "    print(expr, \"->\", evaluate(expr))"
   ]
  },
  {
   "cell_type": "code",
   "execution_count": 16,
   "id": "protecting-presence",
   "metadata": {},
   "outputs": [
    {
     "data": {
      "text/plain": [
       "0.3333333333333333"
      ]
     },
     "execution_count": 16,
     "metadata": {},
     "output_type": "execute_result"
    }
   ],
   "source": [
    "evaluate(\"1 / 3\")"
   ]
  },
  {
   "cell_type": "markdown",
   "id": "incorrect-rotation",
   "metadata": {},
   "source": [
    "## To do next\n",
    "One of the limitations of this implementation is that it requires spaces to separate every part of the expression. For example, it can evaluate the expression 2 * ( 5 - 3 ), but it can't evaluate 2 * (5 - 3) or 2*(5 - 3).\n",
    "\n",
    "Also, implement other operators — for example, the integer division //.\n",
    "\n",
    "The evaluate() function that we implemented exists in Python as the eval() built-in function. The Python implementation can actually evaluate any string of Python code, not only expressions."
   ]
  },
  {
   "cell_type": "code",
   "execution_count": 17,
   "id": "optical-satisfaction",
   "metadata": {},
   "outputs": [
    {
     "name": "stdout",
     "output_type": "stream",
     "text": [
      "Hello\n"
     ]
    }
   ],
   "source": [
    "eval(\"print('Hello')\")"
   ]
  },
  {
   "cell_type": "code",
   "execution_count": 18,
   "id": "conservative-swimming",
   "metadata": {},
   "outputs": [
    {
     "data": {
      "text/plain": [
       "0.3333333333333333"
      ]
     },
     "execution_count": 18,
     "metadata": {},
     "output_type": "execute_result"
    }
   ],
   "source": [
    "eval (\"1/3\")"
   ]
  },
  {
   "cell_type": "code",
   "execution_count": null,
   "id": "dress-joining",
   "metadata": {},
   "outputs": [],
   "source": []
  }
 ],
 "metadata": {
  "kernelspec": {
   "display_name": "Python 3",
   "language": "python",
   "name": "python3"
  },
  "language_info": {
   "codemirror_mode": {
    "name": "ipython",
    "version": 3
   },
   "file_extension": ".py",
   "mimetype": "text/x-python",
   "name": "python",
   "nbconvert_exporter": "python",
   "pygments_lexer": "ipython3",
   "version": "3.8.5"
  }
 },
 "nbformat": 4,
 "nbformat_minor": 5
}
