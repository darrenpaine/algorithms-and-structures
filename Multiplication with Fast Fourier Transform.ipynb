{
 "cells": [
  {
   "cell_type": "markdown",
   "id": "cb23dc91",
   "metadata": {},
   "source": [
    "# Integer Multiplication using Fast Fourier Transform"
   ]
  },
  {
   "cell_type": "markdown",
   "id": "541f03a6",
   "metadata": {},
   "source": [
    "This notebook is part 2 of implementing different algorithms for integer manipulation. The aim is to build code that can handle multiplication (and add/subtract) in any base, from binary through decimal to 'base 1,000,000' and above. It will also handle long integers - 10s of thousands of digits or 'limbs' long.\n",
    "\n",
    "Part 1 can be found here: [(Integer Multiplication using Karatsuba method)](./Integer%20Multiplication%20using%20Karatsuba%20method.ipynb).\n",
    "\n",
    "It turns out that multiplication using the algorithm we learned in school (shift across, multiply each digit, carry over, etc) is not the most efficient, especially when dealing with very large integers - such as those used in cryptography.\n",
    "\n",
    "Optimising the 'big-O' complexity has seen a lot of research and small improvements big by bit, finally reaching an optimal(?) version in 2019, even if that solution (currently) only works for unusably large numbers:\n",
    "- **1960: Karatsuba** -> $\\mathcal{O}(n^{1.58})$ -> Faster than 'school' multiplication when $n$ is $2^{320}$ or $\\sim10^{96}$\n",
    "- **1963: Toom-Cook-Knuth** -> $\\mathcal{O}(n⋅2^{\\sqrt{2 \\log n}}\\log n)$ -> Generalization of Karatsuba.\n",
    "- **1971: Schönhage-Strassen** -> $\\mathcal{O}(n \\log n \\log \\log n)$ -> Faster above $\\sim10^{10,000}$\n",
    "- **2007: Fürer** -> $\\mathcal{O}(n \\log n⋅2^{\\mathcal{O}(log^∗ n)})$ -> Faster above $\\sim10^{1,000,000,000,000,000,000}$\n",
    "- **2019: Harvey & van der Hoeven** -> $\\mathcal{O}(n \\log n)$ -> Faster above $\\sim10^{10^{38}}$ or $2^{1729^{12}}$\n",
    "\n",
    "Harvey and van der Hoeven put forward an algorithm that achieves time $O(n \\log n)$, based on a more 'extreme' use of FFT, but their formula only works for numbers with 2 raised to the 7e38 digits - which is, to say the least, impractical. But they do suggest ways of adjusting to apply to 'smaller' numbers of $2^{9^{12}}$ or $\\sim10^{1,000,000,000,000}$.\n",
    "\n",
    "Part 1 [(Integer Multiplication using Karatsuba method)](./Integer%20Multiplication%20using%20Karatsuba%20method.ipynb) looked at implementing the Karatsuba version. This part will look at 'Fast Fourier Transforms' and invesitigate the related 'Number Theoretic Transform', which both use the same concepts, but in different ways."
   ]
  },
  {
   "cell_type": "markdown",
   "id": "8ab75fa7",
   "metadata": {},
   "source": [
    "### Import the BaseBigInteger class"
   ]
  },
  {
   "cell_type": "code",
   "execution_count": 1,
   "id": "cf2db0e3",
   "metadata": {},
   "outputs": [],
   "source": [
    "# Import the final implementation of the big integer class from Part 1:\n",
    "import numpy as np\n",
    "from basebiginteger import BaseBigInteger"
   ]
  },
  {
   "cell_type": "markdown",
   "id": "519ed941",
   "metadata": {},
   "source": [
    "## Fast Fourier Transform (FFT) in a nutshell...\n",
    "People (myself included) spend a long time working out what FFTs do. While they have many uses, the thing we are interested in here is how they can combine and 'align' the digits of two numbers to allow a smaller number of multiplications. Instead of doing $2^{n}$ multiplications, they cut this down to $2n$. One explanation, with lots of wheels, is [given here](https://www.aimath.org/news/congruentnumbers/howtomultiply.html).\n",
    "\n",
    "### The roots of unity\n",
    "FFT works by using certain complex numbers, chosen so that they don't 'overlap' on the 'wheel'. These numbers are called the 'roots of unity' (which would make a great name for a band, by the way...). So what are 'roots of unity'?\n",
    "\n",
    "Well, to start from a very simple formula, the 2nd root of unity is any number where $z^{2} = 1$. Hmmm, you're thinking. That is $1$... Well, yes, one is a root of unity, but not useful for us, as it 'overlaps' with the value of one itself. There are other, as we will see.\n",
    "\n",
    "Let's try another example - the 4th root of unity is any number where $x^{4} = 1$, but also - importantly - all the lower powers of $x$ do _not_ equal $1$ and so they do not 'overlap'. That is, we also need $z^{2} \\neq 1$ and $z^{3} \\neq 1$. Here's where it gets 'complex'... Consider the complex number $i = \\sqrt{-1}$. $i^{2} = -1$, by definition, and $z^{3} = - i$ - and we have something that doesn't overlap!\n",
    "\n",
    "Now we can take 4 items and 'combine' them without overlapping, do the multiplication on the smaller set of numbers, then 'reverse' out after multiplying. In general, we can define a complex number that gives us the n-th root of unity. Complex numbers are often written as an exponential, and that's what I will use here (and in the implementation).\n",
    "\n",
    "For $k = 0, 1, 2,..., n - 1$, each root is given by $e^{{{2 \\pi k} \\over {n}} i}$\n",
    "\n",
    "Or, $\\omega = e^{{{2 \\pi} \\over {n}} i}$ and the roots are $1, \\omega, \\omega^{2}, \\omega^{2}, ..., \\omega^{n-1}$.\n",
    "\n",
    "The complex parts are only there for the combining. Once the process is complete, we lose the complex part and come back to reality (and our number multiplied)."
   ]
  },
  {
   "cell_type": "code",
   "execution_count": 2,
   "id": "cd0f8432",
   "metadata": {},
   "outputs": [],
   "source": [
    "#Algorithm\n",
    "class FFT:\n",
    "    omega_cache = {}\n",
    "    def do_FFT(self, signal, direction):\n",
    "        \"\"\"Input: An n-length coefficient vector signal = [a_0,a_1,...,a_(n-1)]\n",
    "        (n = a power of 2)\n",
    "        Output: A vector y of values of the polynomial for signal\n",
    "        at the nth roots of unity.\"\"\"\n",
    "    \n",
    "        def omega(n, m, direction=1):\n",
    "            # Cache the answers - saves time\n",
    "            if (n, m, direction) not in FFT.omega_cache:\n",
    "                FFT.omega_cache[(n, m, direction)] = np.exp((direction * 2.0 * np.pi * 1j * m) / n)\n",
    "             \n",
    "            return FFT.omega_cache[(n, m, direction)]\n",
    "\n",
    "        n = len(signal)\n",
    "        if n == 1:\n",
    "            return signal\n",
    "\n",
    "        # Divide step\n",
    "        signal_even = self.do_FFT(signal[0:n:2], direction)\n",
    "        signal_odd = self.do_FFT(signal[1:n:2], direction)\n",
    "\n",
    "        combined = np.zeros(n, dtype=complex)\n",
    "        for m in range(n//2):\n",
    "            combined[m] = signal_even[m] + omega(n, -m, direction) * signal_odd[m]\n",
    "            combined[m + n//2] = signal_even[m] - omega(n, -m, direction) * signal_odd[m]\n",
    "\n",
    "        return combined\n",
    "\n",
    "    def FFT(self, signal):\n",
    "        return self.do_FFT(signal, 1)\n",
    "\n",
    "    def IFFT(self, signal):\n",
    "        # Strip out any 'residual' complex part. These are very small.\n",
    "        return self.do_FFT(signal, -1).real.round().astype(np.int64) // len(signal)\n"
   ]
  },
  {
   "cell_type": "markdown",
   "id": "5764cb8a",
   "metadata": {},
   "source": [
    "### Also try the numpy implementation:"
   ]
  },
  {
   "cell_type": "code",
   "execution_count": 3,
   "id": "78922b78",
   "metadata": {},
   "outputs": [],
   "source": [
    "# A wrapper on the numpy implementation of FFT\n",
    "class npFFT (FFT):\n",
    "    def do_FFT(self, signal, direction):\n",
    "        pass\n",
    "\n",
    "    def FFT(self, signal):\n",
    "        return np.fft.fft(signal)\n",
    "\n",
    "    def IFFT(self, signal):\n",
    "        return np.fft.ifft(signal)\n"
   ]
  },
  {
   "cell_type": "code",
   "execution_count": 4,
   "id": "2151cffd",
   "metadata": {},
   "outputs": [
    {
     "name": "stdout",
     "output_type": "stream",
     "text": [
      "Using the FFT() implementation:  [ 81 162 162 162 162 162 162  81]\n",
      "Using the NumPy implementation:  [ 81 162 162 162 162 162 162  81]\n"
     ]
    }
   ],
   "source": [
    "# Test the algorithm for 9999 x 9999999 - first pass:\n",
    "FFTimp = FFT()\n",
    "npFFTimp = npFFT()\n",
    "\n",
    "a = np.asarray([ 9,  9,  0,  0,  0,  0,  0,  0])\n",
    "FA = FFTimp.FFT(a)\n",
    "FAnp = npFFTimp.FFT(a)\n",
    "#print (FA, FAnp)\n",
    "\n",
    "b = np.asarray([ 9,  9,  9,  9,  9,  9,  9,  0])\n",
    "FB = FFTimp.FFT (b)\n",
    "FBnp = npFFTimp.FFT(b)\n",
    "#print (FB, FBnp)\n",
    "\n",
    "FMULT = np.multiply(FA, FB)\n",
    "FMULTnp = np.multiply(FAnp, FBnp)\n",
    "#print (FMULT, FMULTnp)\n",
    "\n",
    "mult = FFTimp.IFFT(FMULT)\n",
    "mult = mult.real.round().astype(np.int64)\n",
    "print('Using the FFT() implementation: ', mult)\n",
    "\n",
    "multnp = npFFTimp.IFFT(FMULTnp).real.round().astype(np.int64) # round to avoid precision cutoff errors\n",
    "print ('Using the NumPy implementation: ', multnp)"
   ]
  },
  {
   "cell_type": "markdown",
   "id": "2878b0b8",
   "metadata": {},
   "source": [
    "So far, so good. This implementation matches the numpy result. Next, here's the multiplication function, which draws on various implementations of the Cooley–Tukey Fast Fourier Transform (FFT) algorithm."
   ]
  },
  {
   "cell_type": "code",
   "execution_count": 5,
   "id": "5d939a71",
   "metadata": {},
   "outputs": [],
   "source": [
    "def getFFTimp():\n",
    "    return FFT()\n",
    "\n",
    "def fft_mult(a, b, FFTimp=getFFTimp()):\n",
    "    length_a = len(a._number)\n",
    "    length_b = len(b._number)\n",
    "\n",
    "    n = 2\n",
    "    while (length_b  > n):\n",
    "        n <<= 1\n",
    "\n",
    "    length_chunk = n - length_b + 1\n",
    "\n",
    "    a_base = a.shift(length_b - 1)\n",
    "    steps = 1\n",
    "    if length_chunk:\n",
    "        steps = (length_a) // length_chunk\n",
    "        if (length_a) % length_chunk: steps += 1\n",
    "    if not steps:\n",
    "        steps = 1\n",
    "\n",
    "    a_array = np.zeros((steps, n))\n",
    "    for i in range(steps):\n",
    "        # The next chunk\n",
    "        for j in range (0, length_chunk):\n",
    "            # Add in the chunk, remembering that _number is reversed\n",
    "            a_array[i,j] = a_base._number[-j-length_chunk*i-1]\n",
    "\n",
    "    b_base = b.shift(n-len(b._number))\n",
    "\n",
    "    FBnp = FFTimp.FFT(np.flip(b_base._number))\n",
    "\n",
    "    yres = np.zeros(n + length_chunk * steps, dtype=complex)\n",
    "\n",
    "    for i in range(steps):\n",
    "        yres[i*length_chunk:i*length_chunk+n] += FFTimp.IFFT(np.multiply(FBnp, FFTimp.FFT(a_array[i])))\n",
    "\n",
    "    return BaseBigInteger(yres.real.round().astype(np.int64)[length_a + length_b - 2::-1], base=a._base, store=np.int64)\n"
   ]
  },
  {
   "cell_type": "markdown",
   "id": "001e57f1",
   "metadata": {},
   "source": [
    "### A quick test"
   ]
  },
  {
   "cell_type": "code",
   "execution_count": 6,
   "id": "bd5c0fbd",
   "metadata": {},
   "outputs": [
    {
     "name": "stdout",
     "output_type": "stream",
     "text": [
      "Python:    9982228031296030610881\n",
      "Karatsuba: 9982228031296030610881\n",
      "FFT:       9982228031296030610881\n",
      "FFT (np):  9982228031296030610881\n"
     ]
    }
   ],
   "source": [
    "#num1 = num2 = 987654329876543209876543209876543298765432987654320987654320987654329876543298765432098765432098765432987654329876543209876543209876543298765432987654320987654320987654329876543298765432098765432098765432987654329876543209876543209876543298765432987654320987654320987654329876543298765432098765432098765432987654329876543209876543209876543298765432987654320987654320987654329876543298765432098765432098765432987654329876543209876543209876543298765432987654320987654320987654329876543298765432098765432098765432987654329876543209876543209876543298765432987654320987654320987654329876543298765432098765432098765432987654329876543209876543209876543298765432987654320987654320987654329876543298765432098765432098765432987654329876543209876543209876543298765432987654320987654320987654329876543298765432098765432098765432987654329876543209876543209876543298765432987654320987654320987654329876543298765432098765432098765432987654329876543209876543209876543298765432987654320987654320987654329876543298765432098765432098765432987654329876543209876543209876543298765432987654320987654320987654329876543298765432098765432098765432987654329876543209876543209876543298765432987654320987654320987654329876543298765432098765432098765432\n",
    "num1 = num2 = 99911100641\n",
    "#num2 = 999\n",
    "a = BaseBigInteger(num1)\n",
    "b = BaseBigInteger(num2)\n",
    "print('Python:   ', num1 * num2)\n",
    "print('Karatsuba:', a*b)\n",
    "print('FFT:      ', fft_mult(a,b))\n",
    "print('FFT (np): ', fft_mult(a,b,npFFT()))\n"
   ]
  },
  {
   "cell_type": "code",
   "execution_count": 7,
   "id": "3564313a",
   "metadata": {},
   "outputs": [],
   "source": [
    "num1 = '9'*100\n",
    "num2 = '123'*(99//3)\n",
    "a = BaseBigInteger(num1)\n",
    "b = BaseBigInteger(num2)\n",
    "c = BaseBigInteger(num1, base=1000000, store=np.int64)\n",
    "d = BaseBigInteger(num2, base=1000000, store=np.int64)\n"
   ]
  },
  {
   "cell_type": "code",
   "execution_count": 8,
   "id": "c500dfd1",
   "metadata": {},
   "outputs": [
    {
     "name": "stdout",
     "output_type": "stream",
     "text": [
      "Number Length: 100\n",
      "Python\n",
      "1.24 µs ± 47.7 ns per loop (mean ± std. dev. of 7 runs, 1000000 loops each)\n",
      "Karatsuba - base 1000000\n",
      "98.8 ms ± 9.74 ms per loop (mean ± std. dev. of 7 runs, 10 loops each)\n",
      "FFT\n",
      "13.5 ms ± 793 µs per loop (mean ± std. dev. of 7 runs, 100 loops each)\n",
      "FFT - np\n",
      "1.66 ms ± 62.4 µs per loop (mean ± std. dev. of 7 runs, 1000 loops each)\n",
      "FFT - base 1000000\n",
      "12.5 ms ± 1.56 ms per loop (mean ± std. dev. of 7 runs, 100 loops each)\n",
      "FFT - np - base 1000000\n",
      "555 µs ± 23.1 µs per loop (mean ± std. dev. of 7 runs, 1000 loops each)\n"
     ]
    }
   ],
   "source": [
    "print ('Number Length:', len(a._number))\n",
    "print('Python')\n",
    "%timeit  (int(num1) * int(num2))\n",
    "#print('Karatsuba - base 10')\n",
    "#%timeit (a*b)\n",
    "print('Karatsuba - base 1000000')\n",
    "%timeit (c*d)\n",
    "print ('FFT')\n",
    "%timeit fft_mult(a,b)\n",
    "print ('FFT - np')\n",
    "%timeit fft_mult(a,b, npFFT())\n",
    "\n",
    "print ('FFT - base 1000000')\n",
    "%timeit fft_mult(c,d)\n",
    "print ('FFT - np - base 1000000')\n",
    "%timeit fft_mult(c,d, npFFT())\n"
   ]
  },
  {
   "cell_type": "markdown",
   "id": "1be859d9",
   "metadata": {},
   "source": [
    "### Create a version of BaseBigInteger using FFT algorithm\n",
    "Inheriting from the BaseBigInteger class, the FFTBaseInteger class overrides the ```_multiply_numbers``` method (using the ```fft_mult()``` function we developed) to use FFT. Note that on initialisation, it calls ```getFFTimp()``` to get the implementation of FFT to be used. We will use this to swap between out FFT and the numpy FFT, and also for NTT implementations below."
   ]
  },
  {
   "cell_type": "code",
   "execution_count": 9,
   "id": "99f9e8b4",
   "metadata": {},
   "outputs": [],
   "source": [
    "import numpy as np\n",
    "\n",
    "# Reimplement the class\n",
    "class FFTBaseInteger (BaseBigInteger):\n",
    "    \n",
    "    def __init__ (self, x, base=10, negative=False, store=np.int16):\n",
    "        FFTimp=getFFTimp()\n",
    "        super().__init__(x,base,negative,store)\n",
    "\n",
    "    def _multiply_numbers(self, first, second):\n",
    "        length_first = len(first)\n",
    "        length_second = len(second)\n",
    "\n",
    "        n = 2\n",
    "        while (length_second  > n):\n",
    "            n <<= 1\n",
    "\n",
    "        length_chunk = n - length_second + 1\n",
    "\n",
    "        first_base = np.append(np.zeros(length_second - 1, dtype=self._store),first)\n",
    "\n",
    "        steps = 1\n",
    "        if length_chunk:\n",
    "            steps = (length_first) // length_chunk\n",
    "            if (length_first) % length_chunk: steps += 1\n",
    "        if not steps:\n",
    "            steps = 1\n",
    "\n",
    "        first_array = np.zeros((steps, n))\n",
    "        for i in range(steps):\n",
    "            # The next chunk\n",
    "            for j in range (0, length_chunk):\n",
    "                # Add in the chunk, remembering that _number is reversed\n",
    "                first_array[i,j] = first_base[-j-length_chunk*i-1]\n",
    "\n",
    "        second_base = np.append(np.zeros(n-length_second, dtype=self._store),second)\n",
    "\n",
    "        Fsecondnp = FFTimp.FFT(np.flip(second_base))\n",
    "\n",
    "        yres = np.zeros(n + length_chunk * steps, dtype=complex)\n",
    "\n",
    "        for i in range(steps):\n",
    "            yres[i*length_chunk:i*length_chunk+n] += FFTimp.IFFT(np.multiply(Fsecondnp, FFTimp.FFT(first_array[i])))\n",
    "\n",
    "        return yres.real.round().astype(np.int64)[length_first + length_second - 2::-1], False\n"
   ]
  },
  {
   "cell_type": "code",
   "execution_count": 10,
   "id": "44cad0e9",
   "metadata": {},
   "outputs": [
    {
     "name": "stdout",
     "output_type": "stream",
     "text": [
      "99999999999999999999999999999999999999999999999999999999999999999999999999999999999999999999999999980000000000000000000000000000000000000000000000000000000000000000000000000000000000000000000000000001\n",
      "99999999999999999999999999999999999999999999999999999999999999999999999999999999999999999999999999980000000000000000000000000000000000000000000000000000000000000000000000000000000000000000000000000001\n"
     ]
    }
   ],
   "source": [
    "num1 = num2 = 9999999999999999999999999999999999999999999999999999999999999999999999999999999999999999999999999999\n",
    "a = BaseBigInteger(num1)\n",
    "b = BaseBigInteger(num2)\n",
    "print (a*b)\n",
    "\n",
    "x = FFTBaseInteger(num1)\n",
    "y = FFTBaseInteger(num2)\n",
    "print (x*y)"
   ]
  },
  {
   "cell_type": "markdown",
   "id": "9cbbd6d9",
   "metadata": {},
   "source": [
    "### Set up and do some speed testing"
   ]
  },
  {
   "cell_type": "code",
   "execution_count": 11,
   "id": "07f1ec9a",
   "metadata": {},
   "outputs": [],
   "source": [
    "def get_base_integer(digits, base=10, store=np.int16):\n",
    "    return BaseBigInteger(digits, base, negative=False, store=store)\n",
    "\n",
    "# Generate numbers with 50, 100, 150, 200, 250 and 300 digits\n",
    "def do_speed_test(step, top, check_products=False, base=100, title=''):\n",
    "    if len(title):\n",
    "        print(title)\n",
    "        print(len(title)*'=')\n",
    "    store = np.int16\n",
    "    if base > 100:\n",
    "        store = np.int64\n",
    "\n",
    "    results = []\n",
    "    num_dig_base = 0\n",
    "    b = base\n",
    "    while (b > 1):\n",
    "        num_dig_base += 1\n",
    "        b //= 10\n",
    "    for num_digits in range (step, top+step, step):\n",
    "        print(f'Number Length: {num_digits}')\n",
    "        # Create a set of random digits of the required length:\n",
    "        digits = np.random.randint(0,9,num_digits)\n",
    "        py_num = 0\n",
    "\n",
    "        # The BaseInteger class can initialise from an np_array, as it uses these\n",
    "        # internally. But they are stored 'big endian' (lowest digit first).\n",
    "        big_base_digits = []\n",
    "        if base > 10:\n",
    "            for slice in range(0,len(digits)-num_dig_base,num_dig_base):\n",
    "                temp_num = 0\n",
    "                for x in range(num_dig_base):\n",
    "                    temp_num *= 10 # Shift up one place\n",
    "                    temp_num += int(digits[slice+x]) # Add the next digit\n",
    "                big_base_digits.append(temp_num)\n",
    "        else:\n",
    "            big_base_digits = digits\n",
    "\n",
    "        # print(big_base_digits)\n",
    "        bi_num = get_base_integer(np.asarray(big_base_digits,dtype=store), base, store)\n",
    "        \n",
    "        # Turn these into a python integer, and we do this 'little endian':\n",
    "        py_num = int(str(bi_num))\n",
    "        #print(\"> Test number:\", py_num)\n",
    "\n",
    "        # Check we have the same numbers. Note the casts to get an integer.\n",
    "        if py_num - int(str(bi_num)) != 0:\n",
    "            print(\"> Error - numbers are different.\")\n",
    "\n",
    "        # Use the timeit magic and note the result\n",
    "        py_result = %timeit -n10 -o (py_num*py_num)\n",
    "        bi_result = %timeit -n1 -r1 -o (bi_num * get_base_integer(digits))\n",
    "        if check_products:\n",
    "            if py_num*py_num - int(str(bi_num * get_base_integer(digits))) != 0:\n",
    "                print(\"> Error - products are different.\")\n",
    "                print(py_num*py_num)\n",
    "                print(bi_num * get_base_integer(np.asarray(big_base_digits,dtype=store), base))\n",
    "            else:\n",
    "                print(\"> OK: products match.\")\n",
    "\n",
    "        # Print out the difference in speed and store in our results array.\n",
    "        print(f'Number Length {num_digits}: Python is {bi_result.best/py_result.best:,.0f} times faster.\\n')\n",
    "        results.append(bi_result.best/py_result.best)\n",
    "    return results"
   ]
  },
  {
   "cell_type": "code",
   "execution_count": 12,
   "id": "483d3d79",
   "metadata": {},
   "outputs": [
    {
     "name": "stdout",
     "output_type": "stream",
     "text": [
      "Karatsuba\n",
      "=========\n",
      "Number Length: 50\n",
      "220 ns ± 45 ns per loop (mean ± std. dev. of 7 runs, 10 loops each)\n",
      "65.8 ms ± 0 ns per loop (mean ± std. dev. of 1 run, 1 loop each)\n",
      "Number Length 50: Python is 329,136 times faster.\n",
      "\n",
      "Number Length: 100\n",
      "347 ns ± 50.6 ns per loop (mean ± std. dev. of 7 runs, 10 loops each)\n",
      "150 ms ± 0 ns per loop (mean ± std. dev. of 1 run, 1 loop each)\n",
      "Number Length 100: Python is 470,244 times faster.\n",
      "\n",
      "Number Length: 150\n",
      "444 ns ± 31.1 ns per loop (mean ± std. dev. of 7 runs, 10 loops each)\n",
      "293 ms ± 0 ns per loop (mean ± std. dev. of 1 run, 1 loop each)\n",
      "Number Length 150: Python is 681,533 times faster.\n",
      "\n",
      "Number Length: 200\n",
      "631 ns ± 44.5 ns per loop (mean ± std. dev. of 7 runs, 10 loops each)\n",
      "403 ms ± 0 ns per loop (mean ± std. dev. of 1 run, 1 loop each)\n",
      "Number Length 200: Python is 661,098 times faster.\n",
      "\n",
      "Number Length: 250\n",
      "764 ns ± 35.8 ns per loop (mean ± std. dev. of 7 runs, 10 loops each)\n",
      "602 ms ± 0 ns per loop (mean ± std. dev. of 1 run, 1 loop each)\n",
      "Number Length 250: Python is 813,821 times faster.\n",
      "\n",
      "Number Length: 300\n",
      "1.22 µs ± 253 ns per loop (mean ± std. dev. of 7 runs, 10 loops each)\n",
      "926 ms ± 0 ns per loop (mean ± std. dev. of 1 run, 1 loop each)\n",
      "Number Length 300: Python is 881,966 times faster.\n",
      "\n",
      "Number Length: 350\n",
      "1.38 µs ± 37.4 ns per loop (mean ± std. dev. of 7 runs, 10 loops each)\n",
      "1.27 s ± 0 ns per loop (mean ± std. dev. of 1 run, 1 loop each)\n",
      "Number Length 350: Python is 938,343 times faster.\n",
      "\n",
      "Number Length: 400\n",
      "1.7 µs ± 43.6 ns per loop (mean ± std. dev. of 7 runs, 10 loops each)\n",
      "1.74 s ± 0 ns per loop (mean ± std. dev. of 1 run, 1 loop each)\n",
      "Number Length 400: Python is 1,042,375 times faster.\n",
      "\n",
      "Number Length: 450\n",
      "4.28 µs ± 2.11 µs per loop (mean ± std. dev. of 7 runs, 10 loops each)\n",
      "2.77 s ± 0 ns per loop (mean ± std. dev. of 1 run, 1 loop each)\n",
      "Number Length 450: Python is 892,090 times faster.\n",
      "\n",
      "Number Length: 500\n",
      "2.95 µs ± 48.9 ns per loop (mean ± std. dev. of 7 runs, 10 loops each)\n",
      "2.46 s ± 0 ns per loop (mean ± std. dev. of 1 run, 1 loop each)\n",
      "Number Length 500: Python is 845,543 times faster.\n",
      "\n",
      "Number Length: 550\n",
      "3.68 µs ± 978 ns per loop (mean ± std. dev. of 7 runs, 10 loops each)\n",
      "3 s ± 0 ns per loop (mean ± std. dev. of 1 run, 1 loop each)\n",
      "Number Length 550: Python is 923,494 times faster.\n",
      "\n",
      "Number Length: 600\n",
      "3.87 µs ± 111 ns per loop (mean ± std. dev. of 7 runs, 10 loops each)\n",
      "3.31 s ± 0 ns per loop (mean ± std. dev. of 1 run, 1 loop each)\n",
      "Number Length 600: Python is 881,786 times faster.\n",
      "\n",
      "FFT with np\n",
      "===========\n",
      "Number Length: 50\n",
      "237 ns ± 30.6 ns per loop (mean ± std. dev. of 7 runs, 10 loops each)\n",
      "6.21 ms ± 0 ns per loop (mean ± std. dev. of 1 run, 1 loop each)\n",
      "Number Length 50: Python is 29,562 times faster.\n",
      "\n",
      "Number Length: 100\n",
      "370 ns ± 37 ns per loop (mean ± std. dev. of 7 runs, 10 loops each)\n",
      "13.8 ms ± 0 ns per loop (mean ± std. dev. of 1 run, 1 loop each)\n",
      "Number Length 100: Python is 39,480 times faster.\n",
      "\n",
      "Number Length: 150\n",
      "521 ns ± 44.5 ns per loop (mean ± std. dev. of 7 runs, 10 loops each)\n",
      "17.2 ms ± 0 ns per loop (mean ± std. dev. of 1 run, 1 loop each)\n",
      "Number Length 150: Python is 34,414 times faster.\n",
      "\n",
      "Number Length: 200\n",
      "733 ns ± 48 ns per loop (mean ± std. dev. of 7 runs, 10 loops each)\n",
      "34.7 ms ± 0 ns per loop (mean ± std. dev. of 1 run, 1 loop each)\n",
      "Number Length 200: Python is 48,925 times faster.\n",
      "\n",
      "Number Length: 250\n",
      "1.09 µs ± 79.8 ns per loop (mean ± std. dev. of 7 runs, 10 loops each)\n",
      "276 ms ± 0 ns per loop (mean ± std. dev. of 1 run, 1 loop each)\n",
      "Number Length 250: Python is 287,985 times faster.\n",
      "\n",
      "Number Length: 300\n",
      "1.29 µs ± 61.6 ns per loop (mean ± std. dev. of 7 runs, 10 loops each)\n",
      "42.6 ms ± 0 ns per loop (mean ± std. dev. of 1 run, 1 loop each)\n",
      "Number Length 300: Python is 34,358 times faster.\n",
      "\n",
      "Number Length: 350\n",
      "1.63 µs ± 67.1 ns per loop (mean ± std. dev. of 7 runs, 10 loops each)\n",
      "61.4 ms ± 0 ns per loop (mean ± std. dev. of 1 run, 1 loop each)\n",
      "Number Length 350: Python is 38,845 times faster.\n",
      "\n",
      "Number Length: 400\n",
      "2.04 µs ± 56.3 ns per loop (mean ± std. dev. of 7 runs, 10 loops each)\n",
      "91 ms ± 0 ns per loop (mean ± std. dev. of 1 run, 1 loop each)\n",
      "Number Length 400: Python is 45,500 times faster.\n",
      "\n",
      "Number Length: 450\n",
      "2.48 µs ± 30 ns per loop (mean ± std. dev. of 7 runs, 10 loops each)\n",
      "182 ms ± 0 ns per loop (mean ± std. dev. of 1 run, 1 loop each)\n",
      "Number Length 450: Python is 73,911 times faster.\n",
      "\n",
      "Number Length: 500\n",
      "2.95 µs ± 37 ns per loop (mean ± std. dev. of 7 runs, 10 loops each)\n",
      "597 ms ± 0 ns per loop (mean ± std. dev. of 1 run, 1 loop each)\n",
      "Number Length 500: Python is 204,466 times faster.\n",
      "\n",
      "Number Length: 550\n",
      "5.55 µs ± 358 ns per loop (mean ± std. dev. of 7 runs, 10 loops each)\n",
      "95.7 ms ± 0 ns per loop (mean ± std. dev. of 1 run, 1 loop each)\n",
      "Number Length 550: Python is 18,980 times faster.\n",
      "\n",
      "Number Length: 600\n",
      "4.02 µs ± 120 ns per loop (mean ± std. dev. of 7 runs, 10 loops each)\n",
      "85.4 ms ± 0 ns per loop (mean ± std. dev. of 1 run, 1 loop each)\n",
      "Number Length 600: Python is 21,962 times faster.\n",
      "\n"
     ]
    }
   ],
   "source": [
    "step = 50\n",
    "top = 600\n",
    "def get_base_integer(digits, base=10, store=np.int16):\n",
    "    return BaseBigInteger(digits, base, False, store) # USING KARATSUBA\n",
    "\n",
    "results_karatsuba = do_speed_test(step, top, False, 10, title ='Karatsuba')\n",
    "\n",
    "def getFFTimp():\n",
    "    return npFFT()\n",
    "def get_base_integer(digits, base=10, store=np.int16):\n",
    "    return FFTBaseInteger(digits, base, False, store)\n",
    "results_fft = do_speed_test(step, top, False, 10, title ='FFT with np')"
   ]
  },
  {
   "cell_type": "code",
   "execution_count": null,
   "id": "1d95aa6f",
   "metadata": {},
   "outputs": [],
   "source": []
  },
  {
   "cell_type": "code",
   "execution_count": 13,
   "id": "f2c5d2e3",
   "metadata": {},
   "outputs": [
    {
     "data": {
      "image/png": "[encoded data removed]",
      "text/plain": [
       "<Figure size 432x288 with 1 Axes>"
      ]
     },
     "metadata": {
      "needs_background": "light"
     },
     "output_type": "display_data"
    }
   ],
   "source": [
    "\n",
    "import matplotlib\n",
    "import matplotlib.pyplot as plt\n",
    "plt.plot(range (step, top+step, step), results_karatsuba, color='red', linewidth=3, label='With Karatsuba')\n",
    "plt.plot(range (step, top+step, step), results_fft, color='green', linewidth=3, label='With FFT (np)')\n",
    "plt.xlim(0, top)\n",
    "plt.xlabel('Num of digits')\n",
    "plt.ylabel('Times slower than Python')\n",
    "plt.legend()\n",
    "plt.show()"
   ]
  },
  {
   "cell_type": "markdown",
   "id": "97d946dd",
   "metadata": {},
   "source": [
    "#### Comments on speed\n",
    "FFT works a lot faster in our implementation. This is probably due to more of the 'grunt' work being moved to underlying implementation, as the Karatsuba is still faster in C for this range of number lengths.\n",
    "\n",
    "#### Try grouping the digits\n",
    "As we did in part 1, we'll put the digits into groups of 6 to speed up the calculation. We will try this with both Karatsuba and FFT to compare."
   ]
  },
  {
   "cell_type": "code",
   "execution_count": 14,
   "id": "20f8ced6",
   "metadata": {},
   "outputs": [
    {
     "name": "stdout",
     "output_type": "stream",
     "text": [
      "Karatsuba - base 1,000,000\n",
      "==========================\n",
      "Number Length: 50\n",
      "357 ns ± 58.5 ns per loop (mean ± std. dev. of 7 runs, 10 loops each)\n",
      "19.9 ms ± 0 ns per loop (mean ± std. dev. of 1 run, 1 loop each)\n",
      "Number Length 50: Python is 66,485 times faster.\n",
      "\n",
      "Number Length: 100\n",
      "361 ns ± 40.9 ns per loop (mean ± std. dev. of 7 runs, 10 loops each)\n",
      "84.1 ms ± 0 ns per loop (mean ± std. dev. of 1 run, 1 loop each)\n",
      "Number Length 100: Python is 247,447 times faster.\n",
      "\n",
      "Number Length: 150\n",
      "550 ns ± 155 ns per loop (mean ± std. dev. of 7 runs, 10 loops each)\n",
      "126 ms ± 0 ns per loop (mean ± std. dev. of 1 run, 1 loop each)\n",
      "Number Length 150: Python is 261,726 times faster.\n",
      "\n",
      "Number Length: 200\n",
      "719 ns ± 49.7 ns per loop (mean ± std. dev. of 7 runs, 10 loops each)\n",
      "171 ms ± 0 ns per loop (mean ± std. dev. of 1 run, 1 loop each)\n",
      "Number Length 200: Python is 247,989 times faster.\n",
      "\n",
      "Number Length: 250\n",
      "997 ns ± 70.9 ns per loop (mean ± std. dev. of 7 runs, 10 loops each)\n",
      "228 ms ± 0 ns per loop (mean ± std. dev. of 1 run, 1 loop each)\n",
      "Number Length 250: Python is 237,379 times faster.\n",
      "\n",
      "Number Length: 300\n",
      "1.27 µs ± 68.8 ns per loop (mean ± std. dev. of 7 runs, 10 loops each)\n",
      "301 ms ± 0 ns per loop (mean ± std. dev. of 1 run, 1 loop each)\n",
      "Number Length 300: Python is 246,509 times faster.\n",
      "\n",
      "Number Length: 350\n",
      "1.56 µs ± 56 ns per loop (mean ± std. dev. of 7 runs, 10 loops each)\n",
      "389 ms ± 0 ns per loop (mean ± std. dev. of 1 run, 1 loop each)\n",
      "Number Length 350: Python is 257,755 times faster.\n",
      "\n",
      "Number Length: 400\n",
      "1.8 µs ± 47.3 ns per loop (mean ± std. dev. of 7 runs, 10 loops each)\n",
      "505 ms ± 0 ns per loop (mean ± std. dev. of 1 run, 1 loop each)\n",
      "Number Length 400: Python is 285,578 times faster.\n",
      "\n",
      "Number Length: 450\n",
      "3.34 µs ± 133 ns per loop (mean ± std. dev. of 7 runs, 10 loops each)\n",
      "480 ms ± 0 ns per loop (mean ± std. dev. of 1 run, 1 loop each)\n",
      "Number Length 450: Python is 154,468 times faster.\n",
      "\n",
      "Number Length: 500\n",
      "2.6 µs ± 65.2 ns per loop (mean ± std. dev. of 7 runs, 10 loops each)\n",
      "644 ms ± 0 ns per loop (mean ± std. dev. of 1 run, 1 loop each)\n",
      "Number Length 500: Python is 251,586 times faster.\n",
      "\n",
      "Number Length: 550\n",
      "4.42 µs ± 238 ns per loop (mean ± std. dev. of 7 runs, 10 loops each)\n",
      "829 ms ± 0 ns per loop (mean ± std. dev. of 1 run, 1 loop each)\n",
      "Number Length 550: Python is 207,347 times faster.\n",
      "\n",
      "Number Length: 600\n",
      "3.79 µs ± 126 ns per loop (mean ± std. dev. of 7 runs, 10 loops each)\n",
      "1.07 s ± 0 ns per loop (mean ± std. dev. of 1 run, 1 loop each)\n",
      "Number Length 600: Python is 289,829 times faster.\n",
      "\n",
      "FFT with np - base 1,000,000\n",
      "============================\n",
      "Number Length: 50\n",
      "301 ns ± 105 ns per loop (mean ± std. dev. of 7 runs, 10 loops each)\n",
      "2.96 ms ± 0 ns per loop (mean ± std. dev. of 1 run, 1 loop each)\n",
      "Number Length 50: Python is 12,882 times faster.\n",
      "\n",
      "Number Length: 100\n",
      "374 ns ± 51.8 ns per loop (mean ± std. dev. of 7 runs, 10 loops each)\n",
      "7.98 ms ± 0 ns per loop (mean ± std. dev. of 1 run, 1 loop each)\n",
      "Number Length 100: Python is 22,808 times faster.\n",
      "\n",
      "Number Length: 150\n",
      "529 ns ± 58.4 ns per loop (mean ± std. dev. of 7 runs, 10 loops each)\n",
      "12.3 ms ± 0 ns per loop (mean ± std. dev. of 1 run, 1 loop each)\n",
      "Number Length 150: Python is 25,019 times faster.\n",
      "\n",
      "Number Length: 200\n",
      "753 ns ± 76.5 ns per loop (mean ± std. dev. of 7 runs, 10 loops each)\n",
      "12.6 ms ± 0 ns per loop (mean ± std. dev. of 1 run, 1 loop each)\n",
      "Number Length 200: Python is 17,535 times faster.\n",
      "\n",
      "Number Length: 250\n",
      "1.3 µs ± 153 ns per loop (mean ± std. dev. of 7 runs, 10 loops each)\n",
      "52.9 ms ± 0 ns per loop (mean ± std. dev. of 1 run, 1 loop each)\n",
      "Number Length 250: Python is 51,849 times faster.\n",
      "\n",
      "Number Length: 300\n",
      "1.32 µs ± 73.4 ns per loop (mean ± std. dev. of 7 runs, 10 loops each)\n",
      "26.7 ms ± 0 ns per loop (mean ± std. dev. of 1 run, 1 loop each)\n",
      "Number Length 300: Python is 20,894 times faster.\n",
      "\n",
      "Number Length: 350\n",
      "1.72 µs ± 48.3 ns per loop (mean ± std. dev. of 7 runs, 10 loops each)\n",
      "26 ms ± 0 ns per loop (mean ± std. dev. of 1 run, 1 loop each)\n",
      "Number Length 350: Python is 15,493 times faster.\n",
      "\n",
      "Number Length: 400\n",
      "2.07 µs ± 57.4 ns per loop (mean ± std. dev. of 7 runs, 10 loops each)\n",
      "27.1 ms ± 0 ns per loop (mean ± std. dev. of 1 run, 1 loop each)\n",
      "Number Length 400: Python is 13,368 times faster.\n",
      "\n",
      "Number Length: 450\n",
      "3.54 µs ± 659 ns per loop (mean ± std. dev. of 7 runs, 10 loops each)\n",
      "53 ms ± 0 ns per loop (mean ± std. dev. of 1 run, 1 loop each)\n",
      "Number Length 450: Python is 20,937 times faster.\n",
      "\n",
      "Number Length: 500\n",
      "3.32 µs ± 674 ns per loop (mean ± std. dev. of 7 runs, 10 loops each)\n",
      "162 ms ± 0 ns per loop (mean ± std. dev. of 1 run, 1 loop each)\n",
      "Number Length 500: Python is 53,919 times faster.\n",
      "\n",
      "Number Length: 550\n",
      "3.71 µs ± 46.4 ns per loop (mean ± std. dev. of 7 runs, 10 loops each)\n",
      "77.8 ms ± 0 ns per loop (mean ± std. dev. of 1 run, 1 loop each)\n",
      "Number Length 550: Python is 21,303 times faster.\n",
      "\n",
      "Number Length: 600\n",
      "7.25 µs ± 1.29 µs per loop (mean ± std. dev. of 7 runs, 10 loops each)\n",
      "82.7 ms ± 0 ns per loop (mean ± std. dev. of 1 run, 1 loop each)\n",
      "Number Length 600: Python is 12,816 times faster.\n",
      "\n"
     ]
    }
   ],
   "source": [
    "step = 50\n",
    "top = 600\n",
    "def get_base_integer(digits, base=1000000, store=np.int64):\n",
    "    return BaseBigInteger(digits, base, False, store)\n",
    "\n",
    "results_karatsuba_million = do_speed_test(step, top, False, 1000000, title='Karatsuba - base 1,000,000')\n",
    "\n",
    "def getFFTimp():\n",
    "    return npFFT()\n",
    "def get_base_integer(digits, base=1000000, store=np.int16):\n",
    "    return FFTBaseInteger(digits, base, False, store)\n",
    "results_fft_million = do_speed_test(step, top, False, 1000000, title='FFT with np - base 1,000,000')"
   ]
  },
  {
   "cell_type": "code",
   "execution_count": 15,
   "id": "3ff963f7",
   "metadata": {},
   "outputs": [
    {
     "data": {
      "image/png": "[encoded data removed]",
      "text/plain": [
       "<Figure size 432x288 with 1 Axes>"
      ]
     },
     "metadata": {
      "needs_background": "light"
     },
     "output_type": "display_data"
    }
   ],
   "source": [
    "\n",
    "import matplotlib\n",
    "import matplotlib.pyplot as plt\n",
    "plt.plot(range (step, top+step, step), results_karatsuba, color='salmon', linewidth=3, label='With Karatsuba')\n",
    "plt.plot(range (step, top+step, step), results_fft, color='lightgreen', linewidth=3, label='With FFT (np)')\n",
    "plt.plot(range (step, top+step, step), results_karatsuba_million, color='red', linewidth=3, label='With Karatsuba 1000000')\n",
    "plt.plot(range (step, top+step, step), results_fft_million, color='green', linewidth=3, label='With FFT (np) 1000000')\n",
    "plt.xlim(0, top)\n",
    "plt.xlabel('Num of digits')\n",
    "plt.ylabel('Times slower than Python')\n",
    "plt.legend()\n",
    "plt.show()"
   ]
  },
  {
   "cell_type": "markdown",
   "id": "8a1f628c",
   "metadata": {},
   "source": [
    "## Next step\n",
    "So, using the FFT implementation from numpy works a little closer to the Python speeds - around 20,000 times slower now - and better than the Karatsuba implementation. This is probably due to spending more time in optimised code, instead of Python code, and Karatsuba would probably still be faster in C.\n",
    "\n",
    "Let's try some larger numbers - up to 10,000 digits."
   ]
  },
  {
   "cell_type": "code",
   "execution_count": 16,
   "id": "915186c3",
   "metadata": {},
   "outputs": [
    {
     "name": "stdout",
     "output_type": "stream",
     "text": [
      "Karatsuba - base 1,000,000\n",
      "==========================\n",
      "Number Length: 1000\n",
      "12.3 µs ± 2.38 µs per loop (mean ± std. dev. of 7 runs, 10 loops each)\n",
      "1.38 s ± 0 ns per loop (mean ± std. dev. of 1 run, 1 loop each)\n",
      "Number Length 1000: Python is 144,529 times faster.\n",
      "\n",
      "Number Length: 2000\n",
      "24.1 µs ± 150 ns per loop (mean ± std. dev. of 7 runs, 10 loops each)\n",
      "4.32 s ± 0 ns per loop (mean ± std. dev. of 1 run, 1 loop each)\n",
      "Number Length 2000: Python is 180,687 times faster.\n",
      "\n",
      "Number Length: 3000\n",
      "72.3 µs ± 5.15 µs per loop (mean ± std. dev. of 7 runs, 10 loops each)\n",
      "9.98 s ± 0 ns per loop (mean ± std. dev. of 1 run, 1 loop each)\n",
      "Number Length 3000: Python is 158,960 times faster.\n",
      "\n",
      "Number Length: 4000\n",
      "82.7 µs ± 8.26 µs per loop (mean ± std. dev. of 7 runs, 10 loops each)\n",
      "12.2 s ± 0 ns per loop (mean ± std. dev. of 1 run, 1 loop each)\n",
      "Number Length 4000: Python is 154,994 times faster.\n",
      "\n",
      "Number Length: 5000\n",
      "123 µs ± 12.9 µs per loop (mean ± std. dev. of 7 runs, 10 loops each)\n",
      "21.8 s ± 0 ns per loop (mean ± std. dev. of 1 run, 1 loop each)\n",
      "Number Length 5000: Python is 190,764 times faster.\n",
      "\n",
      "Number Length: 6000\n",
      "141 µs ± 10.4 µs per loop (mean ± std. dev. of 7 runs, 10 loops each)\n",
      "28.1 s ± 0 ns per loop (mean ± std. dev. of 1 run, 1 loop each)\n",
      "Number Length 6000: Python is 214,772 times faster.\n",
      "\n",
      "Number Length: 7000\n",
      "203 µs ± 26 µs per loop (mean ± std. dev. of 7 runs, 10 loops each)\n",
      "37.4 s ± 0 ns per loop (mean ± std. dev. of 1 run, 1 loop each)\n",
      "Number Length 7000: Python is 208,983 times faster.\n",
      "\n",
      "Number Length: 8000\n",
      "257 µs ± 9.66 µs per loop (mean ± std. dev. of 7 runs, 10 loops each)\n",
      "36.2 s ± 0 ns per loop (mean ± std. dev. of 1 run, 1 loop each)\n",
      "Number Length 8000: Python is 144,950 times faster.\n",
      "\n",
      "Number Length: 9000\n",
      "284 µs ± 9.69 µs per loop (mean ± std. dev. of 7 runs, 10 loops each)\n",
      "54.8 s ± 0 ns per loop (mean ± std. dev. of 1 run, 1 loop each)\n",
      "Number Length 9000: Python is 202,106 times faster.\n",
      "\n",
      "Number Length: 10000\n",
      "344 µs ± 45.3 µs per loop (mean ± std. dev. of 7 runs, 10 loops each)\n",
      "1min 21s ± 0 ns per loop (mean ± std. dev. of 1 run, 1 loop each)\n",
      "Number Length 10000: Python is 255,498 times faster.\n",
      "\n"
     ]
    }
   ],
   "source": [
    "step = 1000\n",
    "top = 10000\n",
    "def get_base_integer(digits, base=1000000, store=np.int16):\n",
    "    return BaseBigInteger(digits, base, False, store)\n",
    "\n",
    "results_karatsuba_million = do_speed_test(step, top, False, 1000000, title='Karatsuba - base 1,000,000')"
   ]
  },
  {
   "cell_type": "code",
   "execution_count": 17,
   "id": "44db2cf2",
   "metadata": {},
   "outputs": [
    {
     "name": "stdout",
     "output_type": "stream",
     "text": [
      "FFT with np - base 1,000,000\n",
      "============================\n",
      "Number Length: 1000\n",
      "7.72 µs ± 337 ns per loop (mean ± std. dev. of 7 runs, 10 loops each)\n",
      "200 ms ± 0 ns per loop (mean ± std. dev. of 1 run, 1 loop each)\n",
      "Number Length 1000: Python is 26,595 times faster.\n",
      "\n",
      "Number Length: 2000\n",
      "22.9 µs ± 97.2 ns per loop (mean ± std. dev. of 7 runs, 10 loops each)\n",
      "402 ms ± 0 ns per loop (mean ± std. dev. of 1 run, 1 loop each)\n",
      "Number Length 2000: Python is 17,579 times faster.\n",
      "\n",
      "Number Length: 3000\n",
      "48.6 µs ± 10.6 µs per loop (mean ± std. dev. of 7 runs, 10 loops each)\n",
      "188 ms ± 0 ns per loop (mean ± std. dev. of 1 run, 1 loop each)\n",
      "Number Length 3000: Python is 4,348 times faster.\n",
      "\n",
      "Number Length: 4000\n",
      "74.3 µs ± 2.23 µs per loop (mean ± std. dev. of 7 runs, 10 loops each)\n",
      "848 ms ± 0 ns per loop (mean ± std. dev. of 1 run, 1 loop each)\n",
      "Number Length 4000: Python is 11,925 times faster.\n",
      "\n",
      "Number Length: 5000\n",
      "106 µs ± 6.31 µs per loop (mean ± std. dev. of 7 runs, 10 loops each)\n",
      "391 ms ± 0 ns per loop (mean ± std. dev. of 1 run, 1 loop each)\n",
      "Number Length 5000: Python is 3,818 times faster.\n",
      "\n",
      "Number Length: 6000\n",
      "144 µs ± 15.2 µs per loop (mean ± std. dev. of 7 runs, 10 loops each)\n",
      "373 ms ± 0 ns per loop (mean ± std. dev. of 1 run, 1 loop each)\n",
      "Number Length 6000: Python is 2,814 times faster.\n",
      "\n",
      "Number Length: 7000\n",
      "175 µs ± 2.86 µs per loop (mean ± std. dev. of 7 runs, 10 loops each)\n",
      "378 ms ± 0 ns per loop (mean ± std. dev. of 1 run, 1 loop each)\n",
      "Number Length 7000: Python is 2,175 times faster.\n",
      "\n",
      "Number Length: 8000\n",
      "223 µs ± 27.9 µs per loop (mean ± std. dev. of 7 runs, 10 loops each)\n",
      "1.87 s ± 0 ns per loop (mean ± std. dev. of 1 run, 1 loop each)\n",
      "Number Length 8000: Python is 8,909 times faster.\n",
      "\n",
      "Number Length: 9000\n",
      "300 µs ± 33.3 µs per loop (mean ± std. dev. of 7 runs, 10 loops each)\n",
      "876 ms ± 0 ns per loop (mean ± std. dev. of 1 run, 1 loop each)\n",
      "Number Length 9000: Python is 3,335 times faster.\n",
      "\n",
      "Number Length: 10000\n",
      "349 µs ± 8.35 µs per loop (mean ± std. dev. of 7 runs, 10 loops each)\n",
      "843 ms ± 0 ns per loop (mean ± std. dev. of 1 run, 1 loop each)\n",
      "Number Length 10000: Python is 2,479 times faster.\n",
      "\n"
     ]
    }
   ],
   "source": [
    "\n",
    "def getFFTimp():\n",
    "    return npFFT()\n",
    "def get_base_integer(digits, base=1000000, store=np.int16):\n",
    "    return FFTBaseInteger(digits, base, False, store)\n",
    "results_fft_million = do_speed_test(step, top, False, 1000000, title='FFT with np - base 1,000,000')"
   ]
  },
  {
   "cell_type": "code",
   "execution_count": 18,
   "id": "9c1fce51",
   "metadata": {},
   "outputs": [
    {
     "data": {
      "image/png": "[encoded data removed]",
      "text/plain": [
       "<Figure size 432x288 with 1 Axes>"
      ]
     },
     "metadata": {
      "needs_background": "light"
     },
     "output_type": "display_data"
    }
   ],
   "source": [
    "\n",
    "import matplotlib\n",
    "import matplotlib.pyplot as plt\n",
    "plt.plot(range (step, top+step, step), results_karatsuba_million, color='red', linewidth=3, label='With Karatsuba 1000000')\n",
    "plt.plot(range (step, top+step, step), results_fft_million, color='green', linewidth=3, label='With FFT (np) 1000000')\n",
    "plt.xlim(0, top)\n",
    "plt.xlabel('Num of digits')\n",
    "plt.ylabel('Times slower than Python')\n",
    "plt.legend()\n",
    "plt.show()"
   ]
  },
  {
   "cell_type": "markdown",
   "id": "b325591f",
   "metadata": {},
   "source": [
    "## And now 250,000 digits\n",
    "This takes around a minute on my processor, and is 900 times slower than Python."
   ]
  },
  {
   "cell_type": "code",
   "execution_count": 19,
   "id": "95f4fabe",
   "metadata": {},
   "outputs": [
    {
     "name": "stdout",
     "output_type": "stream",
     "text": [
      "FFT with np - base 1,000,000 - 250,000 digits\n",
      "=============================================\n",
      "Number Length: 250000\n",
      "57.7 ms ± 3.39 ms per loop (mean ± std. dev. of 7 runs, 10 loops each)\n",
      "52.9 s ± 0 ns per loop (mean ± std. dev. of 1 run, 1 loop each)\n",
      "Number Length 250000: Python is 975 times faster.\n",
      "\n"
     ]
    },
    {
     "data": {
      "text/plain": [
       "[975.3735190681567]"
      ]
     },
     "execution_count": 19,
     "metadata": {},
     "output_type": "execute_result"
    }
   ],
   "source": [
    "step = 250_000\n",
    "top = 250_000\n",
    "def get_base_integer(digits, base=1000000, store=np.int64):\n",
    "    return BaseBigInteger(digits, base, False, store) # USING KARATSUBA\n",
    "\n",
    "#results_karatsuba_million = do_speed_test(step, top, False, 1000000)\n",
    "\n",
    "def getFFTimp():\n",
    "    return npFFT()\n",
    "def get_base_integer(digits, base=1000000, store=np.int64):\n",
    "    return FFTBaseInteger(digits,base, False, store) # USING KARATSUBA 1000000\n",
    "do_speed_test(step, top, False, 1000000, title='FFT with np - base 1,000,000 - 250,000 digits')"
   ]
  },
  {
   "cell_type": "markdown",
   "id": "01aeb5dd",
   "metadata": {},
   "source": [
    "## Number Theoretic Transform (NTT)\n",
    "Now let's turn to Number Theoretic Transforms. The Schönhage-Strassen algorithm, and most of the ones that improved on it, uses the same concept, but uses a different way to get roots of unity without using complex numbers. This method - which works in the same way as FFT algorithms - is called Number Theoretic Transform (NTT).\n",
    "\n",
    "### Back to our Roots (of Unity)\n",
    "Recall that the trick in FFT was the roots of unity. NNT is built on modular arithmetic, which uses a concept called 'rings'. (Note the link to the wheels in FFT!) Without going into details, it uses the 'remainders' from dividing.\n",
    "\n",
    "An example. Let's work in modulo 7. We can count 0, 1, 2, 3, 4, 5, 6,... but what is 6 + 1 (mod 7)? Well, to paraphrase Python:\n",
    "```> (6 + 1) % 7```\n",
    "```0```\n",
    "\n",
    "So, we write $6 (\\text{mod } 7) + 1 \\equiv 0 (\\text{mod } 7) $. Similarly, $6^{2} (\\text{mod } 7) \\equiv 36 (\\text{mod } 7) \\equiv 1 (\\text{mod } 7)$.\n",
    "\n",
    "Wait... $6^{2} \\equiv 1 (\\text{mod } 7)$ !? So 6 is (drumroll and guitar lick...) a 'root of unity' in modulo 7!\n",
    "\n",
    "Let's try another, this time in mod 17.\n",
    "- $4^{2} (\\text{mod } 17) \\equiv 16 (\\text{mod } 17)$\n",
    "- $4^{3} (\\text{mod } 17) \\equiv 64 (\\text{mod } 17) \\equiv 13 (\\text{mod } 17)$\n",
    "- $4^{4} (\\text{mod } 17) \\equiv 256 (\\text{mod } 17) \\equiv 1 (\\text{mod } 17)$\n",
    "\n",
    "So - 4 is a 4th root of unity for mod 17...\n",
    "\n",
    "The NFFT wrapper class inherits from the FFT class, but overrides the transform and inverse transform, so that it can be substituted for the FFT implementation in the integer class. It's set up to use (mod 769) arithmetic by default, but allows this to be specified when the class is instantiated, and we will try out (mod 3329) and (mod 8380417) - both of which are using in cryptography. We need to choose these numbers (they are primes) carefully, and find ones that have the roots that we need.\n",
    "\n",
    "After some experimentation and incremental improvements, I decided to cache the values of the powers of omega (the roots of unity that we use). Similarly, I find all the roots (for 2nd, 4th, 6th,...,$2^{n}$th). The rest of the implementation is very much like for FFT.\n",
    "\n",
    "BIG NOTE: This uses modular inverse ```pow(num, -1, mod)``` which is only implemented from Python 3.8 onwards."
   ]
  },
  {
   "cell_type": "code",
   "execution_count": 20,
   "id": "14691995",
   "metadata": {},
   "outputs": [],
   "source": [
    "#Algorithm\n",
    "class NFFT(FFT):\n",
    "    def __init__(self, modulo=769):\n",
    "        # Seed the primitive root cache\n",
    "        self.modulo = modulo\n",
    "        self.omega_cache = {}\n",
    "        self.root_cache = {}\n",
    "        n = 512\n",
    "        while n > 1:\n",
    "            if n*2 in self.root_cache:\n",
    "                self.root_cache[n] = pow(self.root_cache[n*2], 2, modulo)\n",
    "            else:\n",
    "                self.get_primitive_root(n)\n",
    "            n //= 2        \n",
    "\n",
    "    def get_primitive_root(self, n):\n",
    "        if n not in self.root_cache:\n",
    "            primitive_root = 0\n",
    "            for z in range(2, self.modulo):\n",
    "                for x in range (1, n+1):\n",
    "                    if pow(z,x,self.modulo) == 1:\n",
    "                        if (x == n):\n",
    "                            primitive_root = z\n",
    "                            break\n",
    "                        else:\n",
    "                            break\n",
    "                if primitive_root:\n",
    "                    break\n",
    "            if not primitive_root:\n",
    "                return\n",
    "            self.root_cache[n] = primitive_root\n",
    "        return self.root_cache[n]\n",
    "\n",
    "    def do_FFT(self, signal, direction):\n",
    "        \"\"\"Input: An n-length coefficient vector signal = [a_0,a_1,...,a_(n-1)]\n",
    "        (n = a power of 2)\n",
    "        Output: A vector y of values of the polynomial for signal\n",
    "        at the nth roots of unity.\"\"\"\n",
    "    \n",
    "        def omega(root, power):\n",
    "            # Cache the answers - saves time\n",
    "            if (root, power) not in self.omega_cache:\n",
    "                self.omega_cache[(root, power)] = pow(root, power, self.modulo)\n",
    "             \n",
    "            return self.omega_cache[(root, power)]\n",
    "        \n",
    "\n",
    "        n = len(signal)\n",
    "        if n == 1:\n",
    "            return signal\n",
    "        \n",
    "        # Divide step\n",
    "        signal_even = self.do_FFT(signal[0:n:2], direction)\n",
    "        signal_odd = self.do_FFT(signal[1:n:2], direction)\n",
    "\n",
    "        primitive_root = self.get_primitive_root(n)\n",
    "\n",
    "        combined = np.zeros(n, dtype=np.int64)\n",
    "        for m in range(n//2):\n",
    "            power = 2 * n * m * direction\n",
    "            combined[m] = signal_even[m] + omega(primitive_root, power) * signal_odd[m]\n",
    "            combined[m + n//2] = signal_even[m] - omega(primitive_root, power) * signal_odd[m]\n",
    "        \n",
    "        np.remainder(combined, self.modulo, out=combined)\n",
    "\n",
    "        return combined\n",
    "\n",
    "    def FFT(self, signal):\n",
    "        return self.do_FFT(signal, 1)\n",
    "\n",
    "    def IFFT(self, signal):\n",
    "\n",
    "        result = self.do_FFT(signal, -1) * pow(len(signal), -1, self.modulo)\n",
    "        return np.remainder(result, self.modulo)\n",
    "    \n"
   ]
  },
  {
   "cell_type": "code",
   "execution_count": 21,
   "id": "5e379309",
   "metadata": {},
   "outputs": [],
   "source": [
    "# Set up a series of different moduli:\n",
    "nfft769 = NFFT(769)\n",
    "nfft3329 = NFFT(3329) # This one takes the longest to find roots\n",
    "nfft8380417 = NFFT(8380417)"
   ]
  },
  {
   "cell_type": "code",
   "execution_count": 22,
   "id": "f910ee9e",
   "metadata": {},
   "outputs": [
    {
     "name": "stdout",
     "output_type": "stream",
     "text": [
      "[15 21 13 44]\n",
      "[153 321 133  44]\n",
      "[15 21 13 44]\n",
      "[153 321 133  44]\n",
      "[15 21 13 44]\n",
      "[153 321 133  44]\n"
     ]
    }
   ],
   "source": [
    "# Test transform and inverse - should get us back to the start on each:\n",
    "print(nfft769.IFFT(nfft769.FFT([15, 21, 13, 44])))\n",
    "print(nfft769.IFFT(nfft769.FFT([153, 321, 133, 44])))\n",
    "print(nfft3329.IFFT(nfft3329.FFT([15, 21, 13, 44])))\n",
    "print(nfft3329.IFFT(nfft3329.FFT([153, 321, 133, 44])))\n",
    "print(nfft8380417.IFFT(nfft8380417.FFT([15, 21, 13, 44])))\n",
    "print(nfft8380417.IFFT(nfft8380417.FFT([153, 321, 133, 44])))"
   ]
  },
  {
   "cell_type": "code",
   "execution_count": 23,
   "id": "9a41623a",
   "metadata": {},
   "outputs": [
    {
     "name": "stdout",
     "output_type": "stream",
     "text": [
      "NTT - mod 8380417\n",
      "99999999999999999999999999999 x 15464199154641991546419915464199\n",
      "1546419915464199154641991546404435800845358008453580084535801\n",
      "1546419915464199154641991546404435800845358008453580084535801 (in Python)\n"
     ]
    }
   ],
   "source": [
    "num1 = 99999999999999999999999999999\n",
    "num2 = 15464199154641991546419915464199\n",
    "a = BaseBigInteger(num1)\n",
    "b = BaseBigInteger(num2)\n",
    "#c = BaseBigInteger(num1, base=1000000)\n",
    "#d = BaseBigInteger(num2, base=1000000)\n",
    "\n",
    "print ('NTT - mod 8380417')\n",
    "print (a, 'x', b)\n",
    "print (fft_mult(a,b, nfft8380417))\n",
    "print (a*b, '(in Python)')"
   ]
  },
  {
   "cell_type": "markdown",
   "id": "f0cd1475",
   "metadata": {},
   "source": [
    "So, everything is working. Let's see what is in the root cache."
   ]
  },
  {
   "cell_type": "code",
   "execution_count": 24,
   "id": "262b0dbe",
   "metadata": {},
   "outputs": [
    {
     "name": "stdout",
     "output_type": "stream",
     "text": [
      "769 {256: 7, 128: 49, 64: 94, 32: 377, 16: 633, 8: 40, 4: 62, 2: 768}\n",
      "3329 {256: 17, 128: 289, 64: 296, 32: 1062, 16: 2642, 8: 2580, 4: 1729, 2: 3328}\n",
      "8380417 {512: 1753, 256: 3073009, 128: 3602218, 64: 5010068, 32: 7778734, 16: 5178923, 8: 3765607, 4: 4808194, 2: 8380416}\n"
     ]
    }
   ],
   "source": [
    "print (nfft769.modulo, nfft769.root_cache)\n",
    "print (nfft3329.modulo, nfft3329.root_cache)\n",
    "print (nfft8380417.modulo, nfft8380417.root_cache)"
   ]
  },
  {
   "cell_type": "markdown",
   "id": "e8302306",
   "metadata": {},
   "source": [
    "## Some speed tests and checks"
   ]
  },
  {
   "cell_type": "code",
   "execution_count": 25,
   "id": "a905626a",
   "metadata": {},
   "outputs": [
    {
     "name": "stdout",
     "output_type": "stream",
     "text": [
      "FFT2\n",
      "23.5 ms ± 2.91 ms per loop (mean ± std. dev. of 7 runs, 10 loops each)\n",
      "FFT2 - np\n",
      "482 µs ± 36.9 µs per loop (mean ± std. dev. of 7 runs, 1000 loops each)\n",
      "FFT2 - NTT mod 769\n",
      "18.9 ms ± 769 µs per loop (mean ± std. dev. of 7 runs, 100 loops each)\n",
      "FFT2 - NTT mod 3329\n",
      "19.5 ms ± 2.04 ms per loop (mean ± std. dev. of 7 runs, 10 loops each)\n",
      "FFT2 - NTT mod 8380417\n",
      "20.9 ms ± 2.02 ms per loop (mean ± std. dev. of 7 runs, 100 loops each)\n"
     ]
    }
   ],
   "source": [
    "print ('FFT2')\n",
    "%timeit fft_mult(a,b, FFT())\n",
    "print ('FFT2 - np')\n",
    "%timeit fft_mult(a,b, npFFT())\n",
    "print ('FFT2 - NTT mod 769')\n",
    "%timeit fft_mult(a,b, nfft769)\n",
    "print ('FFT2 - NTT mod 3329')\n",
    "%timeit fft_mult(a,b, nfft3329)\n",
    "print ('FFT2 - NTT mod 8380417')\n",
    "%timeit fft_mult(a,b, nfft8380417)"
   ]
  },
  {
   "cell_type": "markdown",
   "id": "6d44efad",
   "metadata": {},
   "source": [
    "#### Checking that each method gives the same results as Python"
   ]
  },
  {
   "cell_type": "code",
   "execution_count": 26,
   "id": "ea827de9",
   "metadata": {},
   "outputs": [
    {
     "name": "stdout",
     "output_type": "stream",
     "text": [
      "Base 2\n",
      "======\n",
      "Num 1:    101001010010111011100111001\n",
      "Num 2:    11110111011100000101110111101\n",
      "Python x  10011111101010001100001000011100101110100111100000010101\n",
      "FFT x     10011111101010001100001000011100101110100111100000010101\n",
      "FFT(np) x 10011111101010001100001000011100101110100111100000010101\n",
      "NFFT x    10011111101010001100001000011100101110100111100000010101\n",
      "Base 8\n",
      "======\n",
      "Num 1:    235356344561234346451230\n",
      "Num 2:    503453545231356344034\n",
      "Python x  143411462333004336521611461516677665517744240\n",
      "FFT x     143411462333004336521611461516677665517744240\n",
      "FFT(np) x 143411462333004336521611461516677665517744240\n",
      "NFFT x    143411462333004336521611461516677665517744240\n",
      "Base 16\n",
      "=======\n",
      "Num 1:    BADF00DFEEDFEDDEAD\n",
      "Num 2:    C0FFEEEEEEEEEEEEEEEEEE\n",
      "Python x  8CE213338EC3A045F2B37C51964373432EFFDAD6\n",
      "FFT x     8CE213338EC3A045F2B37C51964373432EFFDAD6\n",
      "FFT(np) x 8CE213338EC3A045F2B37C51964373432EFFDAD6\n",
      "NFFT x    8CE213338EC3A045F2B37C51964373432EFFDAD6\n",
      "Base 36\n",
      "=======\n",
      "Num 1:    thequickbrownfoxjumpsoverthelazydog\n",
      "Num 2:    9876543210qwertyuiopasdfghjklzxcvbnm\n",
      "Python x  7K2FEJT407OBCLQY5EMZ5ZSDGSH149227NMQS3YV4ARZG0CLCGKX9628CHXTYZVY5SHZV5S\n",
      "FFT x     7K2FEJT407OBCLQY5EMZ5ZSDGSH149227NMQS3YV4ARZG0CLCGKX9628CHXTYZVY5SHZV5S\n",
      "FFT(np) x 7K2FEJT407OBCLQY5EMZ5ZSDGSH149227NMQS3YV4ARZG0CLCGKX9628CHXTYZVY5SHZV5S\n",
      "NFFT x    7K2FEJT407OBCLQY5EMZ5ZSDGSH149227NMQS3YV4ARZG0CLCGKX9628CHXTYZVY5SHZV5S\n"
     ]
    }
   ],
   "source": [
    "import operator\n",
    "def test_base_operator(x, y, op_name, op_func, base):\n",
    "    print(f'Python {op_name}  {np.base_repr(op_func(int(x, base),int(y, base)), base)}')\n",
    "    def getFFTimp():\n",
    "        return FFT()\n",
    "    print(f'FFT {op_name}     {op_func(FFTBaseInteger(x, base=base), FFTBaseInteger(y, base=base))}')\n",
    "    def getFFTimp():\n",
    "        return npFFT()\n",
    "    print(f'FFT(np) {op_name} {op_func(FFTBaseInteger(x, base=base), FFTBaseInteger(y, base=base))}')\n",
    "    def getFFTimp():\n",
    "        return nfft8380417\n",
    "    print(f'NFFT {op_name}    {op_func(FFTBaseInteger(x, base=base), FFTBaseInteger(y, base=base))}')\n",
    "\n",
    "def test_base_integer_bases_operators(base, num1, num2):\n",
    "    print(f'Base {base}')\n",
    "    print('='*(5+len(str(base))))\n",
    "    print('Num 1:   ', num1)\n",
    "    print('Num 2:   ', num2)\n",
    "#    test_base_operator(num1, num2,'+', operator.add, base)\n",
    "#    test_base_operator(num1, num2,'-', operator.sub, base)\n",
    "    test_base_operator(num1, num2,'x', operator.mul, base)\n",
    "\n",
    "test_base_integer_bases_operators(2, num1 = '101001010010111011100111001', num2 = '11110111011100000101110111101')\n",
    "test_base_integer_bases_operators(8, num1 = '235356344561234346451230', num2 = '503453545231356344034')\n",
    "test_base_integer_bases_operators(16, num1 = 'BADF00DFEEDFEDDEAD', num2 = 'C0FFEEEEEEEEEEEEEEEEEE')\n",
    "test_base_integer_bases_operators(36, num1 = 'thequickbrownfoxjumpsoverthelazydog', num2 = '9876543210qwertyuiopasdfghjklzxcvbnm')\n"
   ]
  },
  {
   "cell_type": "code",
   "execution_count": 31,
   "id": "a7748847",
   "metadata": {},
   "outputs": [],
   "source": [
    "#### Compare the speeds"
   ]
  },
  {
   "cell_type": "code",
   "execution_count": 27,
   "id": "424ac926",
   "metadata": {},
   "outputs": [
    {
     "name": "stdout",
     "output_type": "stream",
     "text": [
      "Base 2\n",
      "======\n",
      "Num 1:    101001010010111011100111001\n",
      "Num 2:    11110111011100000101110111101\n",
      "Python x  13.2 µs ± 715 ns per loop (mean ± std. dev. of 7 runs, 100000 loops each)\n",
      "FFT x     4.48 ms ± 288 µs per loop (mean ± std. dev. of 7 runs, 100 loops each)\n",
      "FFT(np) x 4.57 ms ± 374 µs per loop (mean ± std. dev. of 7 runs, 100 loops each)\n",
      "NFFT x    4.94 ms ± 472 µs per loop (mean ± std. dev. of 7 runs, 100 loops each)\n",
      "Base 8\n",
      "======\n",
      "Num 1:    235356344561234346451230\n",
      "Num 2:    503453545231356344034\n",
      "Python x  12.2 µs ± 438 ns per loop (mean ± std. dev. of 7 runs, 100000 loops each)\n",
      "FFT x     1.67 ms ± 45.5 µs per loop (mean ± std. dev. of 7 runs, 1000 loops each)\n",
      "FFT(np) x 1.83 ms ± 177 µs per loop (mean ± std. dev. of 7 runs, 1000 loops each)\n",
      "NFFT x    2.1 ms ± 243 µs per loop (mean ± std. dev. of 7 runs, 1000 loops each)\n",
      "Base 16\n",
      "=======\n",
      "Num 1:    BADF00DFEEDFEDDEAD\n",
      "Num 2:    FFFFFFFFFFFFFFFFFFFFFFF\n",
      "Python x  12.4 µs ± 1.82 µs per loop (mean ± std. dev. of 7 runs, 100000 loops each)\n",
      "FFT x     1.72 ms ± 89.9 µs per loop (mean ± std. dev. of 7 runs, 1000 loops each)\n",
      "FFT(np) x 1.69 ms ± 64.2 µs per loop (mean ± std. dev. of 7 runs, 1000 loops each)\n",
      "NFFT x    1.68 ms ± 96.9 µs per loop (mean ± std. dev. of 7 runs, 1000 loops each)\n",
      "Base 36\n",
      "=======\n",
      "Num 1:    9876543210qwertyuiopasdfghjklzxcvbnm\n",
      "Num 2:    abcdefghijklmnopqrstuvwxyz1234567890\n",
      "Python x  24.6 µs ± 217 ns per loop (mean ± std. dev. of 7 runs, 10000 loops each)\n",
      "FFT x     3.43 ms ± 87 µs per loop (mean ± std. dev. of 7 runs, 100 loops each)\n",
      "FFT(np) x 3.44 ms ± 51.7 µs per loop (mean ± std. dev. of 7 runs, 100 loops each)\n",
      "NFFT x    3.44 ms ± 54.9 µs per loop (mean ± std. dev. of 7 runs, 100 loops each)\n"
     ]
    }
   ],
   "source": [
    "import operator\n",
    "def test_base_operator_speeds(x, y, op_name, op_func, base):\n",
    "    print(f'Python {op_name} ',end=' ')\n",
    "    %timeit (np.base_repr(op_func(int(x, base),int(y, base)), base))\n",
    "    def getFFTimp():\n",
    "        return FFT()\n",
    "    print(f'FFT {op_name}    ',end=' ')\n",
    "    %timeit (op_func(FFTBaseInteger(x, base=base), FFTBaseInteger(y, base=base)))\n",
    "    def getFFTimp():\n",
    "        return npFFT()\n",
    "    print(f'FFT(np) {op_name}',end=' ')\n",
    "    %timeit (op_func(FFTBaseInteger(x, base=base), FFTBaseInteger(y, base=base)))\n",
    "    def getFFTimp():\n",
    "        return nfft8380417\n",
    "    print(f'NFFT {op_name}   ',end=' ')\n",
    "    %timeit (op_func(FFTBaseInteger(x, base=base), FFTBaseInteger(y, base=base)))\n",
    "\n",
    "def test_base_integer_bases_mult_speed(base, num1, num2):\n",
    "    print(f'Base {base}')\n",
    "    print('='*(5+len(str(base))))\n",
    "    print('Num 1:   ', num1)\n",
    "    print('Num 2:   ', num2)\n",
    "    #test_base_operator_speeds(num1, num2,'+', operator.add, base)\n",
    "    #test_base_operator_speeds(num1, num2,'-', operator.sub, base)\n",
    "    test_base_operator_speeds(num1, num2,'x', operator.mul, base)\n",
    "\n",
    "test_base_integer_bases_mult_speed(2, num1 = '101001010010111011100111001', num2 = '11110111011100000101110111101')\n",
    "test_base_integer_bases_mult_speed(8, num1 = '235356344561234346451230', num2 = '503453545231356344034')\n",
    "test_base_integer_bases_mult_speed(16, num1 = 'BADF00DFEEDFEDDEAD', num2 = 'FFFFFFFFFFFFFFFFFFFFFFF')\n",
    "test_base_integer_bases_mult_speed(36, num1 = '9876543210qwertyuiopasdfghjklzxcvbnm', num2 = 'abcdefghijklmnopqrstuvwxyz1234567890')\n"
   ]
  },
  {
   "cell_type": "markdown",
   "id": "dff30360",
   "metadata": {},
   "source": [
    "## NNT for up to 10,000 digits - and compare with FFT"
   ]
  },
  {
   "cell_type": "code",
   "execution_count": 28,
   "id": "31b47142",
   "metadata": {},
   "outputs": [
    {
     "name": "stdout",
     "output_type": "stream",
     "text": [
      "NTT (8380417)\n",
      "=============\n",
      "Number Length: 1000\n",
      "9.01 µs ± 1.92 µs per loop (mean ± std. dev. of 7 runs, 10 loops each)\n",
      "1 s ± 0 ns per loop (mean ± std. dev. of 1 run, 1 loop each)\n",
      "> OK: products match.\n",
      "Number Length 1000: Python is 132,833 times faster.\n",
      "\n",
      "Number Length: 2000\n",
      "32.6 µs ± 2.51 µs per loop (mean ± std. dev. of 7 runs, 10 loops each)\n",
      "2.34 s ± 0 ns per loop (mean ± std. dev. of 1 run, 1 loop each)\n",
      "> OK: products match.\n",
      "Number Length 2000: Python is 80,159 times faster.\n",
      "\n",
      "Number Length: 3000\n",
      "48.4 µs ± 7.66 µs per loop (mean ± std. dev. of 7 runs, 10 loops each)\n",
      "466 ms ± 0 ns per loop (mean ± std. dev. of 1 run, 1 loop each)\n",
      "> OK: products match.\n",
      "Number Length 3000: Python is 10,603 times faster.\n",
      "\n",
      "Number Length: 4000\n",
      "81.1 µs ± 9.26 µs per loop (mean ± std. dev. of 7 runs, 10 loops each)\n",
      "5.02 s ± 0 ns per loop (mean ± std. dev. of 1 run, 1 loop each)\n",
      "> OK: products match.\n",
      "Number Length 4000: Python is 66,975 times faster.\n",
      "\n",
      "Number Length: 5000\n",
      "102 µs ± 2 µs per loop (mean ± std. dev. of 7 runs, 10 loops each)\n",
      "629 ms ± 0 ns per loop (mean ± std. dev. of 1 run, 1 loop each)\n",
      "> OK: products match.\n",
      "Number Length 5000: Python is 6,240 times faster.\n",
      "\n",
      "Number Length: 6000\n",
      "139 µs ± 3.07 µs per loop (mean ± std. dev. of 7 runs, 10 loops each)\n",
      "914 ms ± 0 ns per loop (mean ± std. dev. of 1 run, 1 loop each)\n",
      "> OK: products match.\n",
      "Number Length 6000: Python is 6,920 times faster.\n",
      "\n",
      "Number Length: 7000\n",
      "176 µs ± 17.3 µs per loop (mean ± std. dev. of 7 runs, 10 loops each)\n",
      "1.55 s ± 0 ns per loop (mean ± std. dev. of 1 run, 1 loop each)\n",
      "> OK: products match.\n",
      "Number Length 7000: Python is 9,338 times faster.\n",
      "\n",
      "Number Length: 8000\n",
      "236 µs ± 28.3 µs per loop (mean ± std. dev. of 7 runs, 10 loops each)\n",
      "10.4 s ± 0 ns per loop (mean ± std. dev. of 1 run, 1 loop each)\n",
      "> OK: products match.\n",
      "Number Length 8000: Python is 48,639 times faster.\n",
      "\n",
      "Number Length: 9000\n",
      "350 µs ± 9.16 µs per loop (mean ± std. dev. of 7 runs, 10 loops each)\n",
      "1.96 s ± 0 ns per loop (mean ± std. dev. of 1 run, 1 loop each)\n",
      "> OK: products match.\n",
      "Number Length 9000: Python is 5,805 times faster.\n",
      "\n",
      "Number Length: 10000\n",
      "403 µs ± 2.94 µs per loop (mean ± std. dev. of 7 runs, 10 loops each)\n",
      "1.66 s ± 0 ns per loop (mean ± std. dev. of 1 run, 1 loop each)\n",
      "> OK: products match.\n",
      "Number Length 10000: Python is 4,152 times faster.\n",
      "\n"
     ]
    }
   ],
   "source": [
    "step = 1000\n",
    "top = 10000\n",
    "def getFFTimp():\n",
    "    return nfft8380417\n",
    "def get_base_integer(digits, base=10, store=np.int16):\n",
    "    return FFTBaseInteger(digits, base, False, store)\n",
    "results_nfft8380417 = do_speed_test(step, top, True, 10, title='NTT (8380417)')\n"
   ]
  },
  {
   "cell_type": "code",
   "execution_count": 29,
   "id": "56c5b0bd",
   "metadata": {},
   "outputs": [
    {
     "data": {
      "image/png": "[encoded data removed]",
      "text/plain": [
       "<Figure size 432x288 with 1 Axes>"
      ]
     },
     "metadata": {
      "needs_background": "light"
     },
     "output_type": "display_data"
    }
   ],
   "source": [
    "\n",
    "import matplotlib\n",
    "import matplotlib.pyplot as plt\n",
    "plt.plot(range (step, top+step, step), results_nfft8380417, color='blue', linewidth=3, label='With NTT (8380417)')\n",
    "plt.plot(range (step, top+step, step), results_fft_million, color='green', linewidth=3, label='With FFT (np) 1000000')\n",
    "plt.xlim(0, top)\n",
    "plt.xlabel('Num of digits')\n",
    "plt.ylabel('Times slower than Python')\n",
    "plt.legend()\n",
    "plt.show()"
   ]
  },
  {
   "cell_type": "markdown",
   "id": "d3c88c50",
   "metadata": {},
   "source": [
    "### Comments and Summary\n",
    "An NTT algorithm gives good results, although there seem to be some lengths where the algorithm is slower. These seem to be around the powers of 2 and the FFT also shows a slower speed in these areas - although less pronounced. Perhaps the choice of modulo can affect this too.\n",
    "\n",
    "Note that the FFT uses floating point implementation and complex numbers, and the code how has used the efficient implementation of that. NTT uses modular arithmetic. It may become more efficient, given the right implementation, asymptopically for extremely large numbers.\n",
    "\n",
    "A last check with 250,000 digits - this implementation is still not as fast as FFT through numpy, but this could be improved on through a optimised low-level language implementation"
   ]
  },
  {
   "cell_type": "code",
   "execution_count": 30,
   "id": "d1a726bc",
   "metadata": {},
   "outputs": [
    {
     "name": "stdout",
     "output_type": "stream",
     "text": [
      "NFFT (8380417) - 250,000 digits\n",
      "===============================\n",
      "Number Length: 250000\n",
      "59.5 ms ± 4.41 ms per loop (mean ± std. dev. of 7 runs, 10 loops each)\n",
      "4min 34s ± 0 ns per loop (mean ± std. dev. of 1 run, 1 loop each)\n",
      "> OK: products match.\n",
      "Number Length 250000: Python is 5,081 times faster.\n",
      "\n"
     ]
    },
    {
     "data": {
      "text/plain": [
       "[5081.163508567626]"
      ]
     },
     "execution_count": 30,
     "metadata": {},
     "output_type": "execute_result"
    }
   ],
   "source": [
    "step = 250_000\n",
    "top = 250_000\n",
    "def getFFTimp():\n",
    "    return nfft8380417\n",
    "def get_base_integer(digits, base=10, store=np.int64):\n",
    "    return FFTBaseInteger(digits,base, False, store) # Base 10000000 gives an error\n",
    "do_speed_test(step, top, True, 10, title='NFFT (8380417) - 250,000 digits')"
   ]
  },
  {
   "cell_type": "code",
   "execution_count": null,
   "id": "c4031ecb",
   "metadata": {},
   "outputs": [],
   "source": []
  }
 ],
 "metadata": {
  "kernelspec": {
   "display_name": "Python 3",
   "language": "python",
   "name": "python3"
  },
  "language_info": {
   "codemirror_mode": {
    "name": "ipython",
    "version": 3
   },
   "file_extension": ".py",
   "mimetype": "text/x-python",
   "name": "python",
   "nbconvert_exporter": "python",
   "pygments_lexer": "ipython3",
   "version": "3.8.8"
  }
 },
 "nbformat": 4,
 "nbformat_minor": 5
}
