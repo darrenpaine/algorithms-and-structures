{
 "cells": [
  {
   "cell_type": "markdown",
   "id": "correct-botswana",
   "metadata": {},
   "source": [
    "# Integer Manipulation - Algorithms\n",
    "This prjoect looks at the mechanisms for different integer arithmatic by implementing different algorithms for integer manipulation. The initial focus is on the ['Karatsuba Multiplication Algorithm'](https://en.wikipedia.org/wiki/Karatsuba_algorithm). It turns out that multiplication using the algorithm we learned in school (shift across, multiply each digit, carry over, etc) is not the most efficient, especially when dealing with very large integers - such as those used in cryptography.\n",
    "\n",
    "First, the algorithm is tested out in Python integers. Then, a ```BaseInteger``` class will be developed that will take in different representations and build up to addition, multiplication, different bases (from binary to base 36), powers, subtraction and division. Various operators, such as +, \\*, - will be added. "
   ]
  },
  {
   "cell_type": "markdown",
   "id": "impaired-kelly",
   "metadata": {},
   "source": [
    "## Initial Algorithm\n",
    "A faster algorithm can be implemented with a 'divide and conquer' approach. We split each of the numbers into two, so that:\n",
    "\\begin{align}\n",
    "x \\times  y &= (x_{1} \\times  10^{n} + x_{0}) \\times (y_{1} \\times  10^{n} + y_{0}) \\\\\n",
    "& = x_{1}y_{1} \\times  10^{2n} + (x_{1}y_{0} + x_{0}y_{1}) \\times 10^{n}) + x_{0}y_{0} \\\\\n",
    "& = z_{2} \\times  10^{2n} + z_{1} \\times 10^{n} + z_{0} \\\\\n",
    "\\end{align}\n",
    "where,\n",
    "\\begin{align}\n",
    "z_{2} &= x_{1}y_{1} \\\\\n",
    "z_{1} &= x_{1}y_{0} + x_{0}y_{1} \\\\\n",
    "z_{0} &= x_{0}y_{0}\n",
    "\\end{align}\n",
    "\n",
    "Karatsuba further recognised that these 4 multiplications could be reduced to 3 multiplications, because:\n",
    "\\begin{align}\n",
    "z_{1} &= (x_{1} + x_{0})(y_{1} + y_{0}) - z_{2} - z_{0}\n",
    "\\end{align}\n",
    "\n",
    "Note also that these are in base 10, but any base could be used."
   ]
  },
  {
   "cell_type": "markdown",
   "id": "coordinated-masters",
   "metadata": {},
   "source": [
    "### Splitting at 'n/2'\n",
    "The first implementation of the algorithm using Python modular division. The ```split_at``` function will help to do the split the number at a given number of digits. e.g. 123987 split at 3 digits will give 123 and 987"
   ]
  },
  {
   "cell_type": "code",
   "execution_count": 9,
   "id": "postal-nurse",
   "metadata": {},
   "outputs": [],
   "source": [
    "def split_at(num,digits):\n",
    "    return (num//digits, num % digits)"
   ]
  },
  {
   "cell_type": "code",
   "execution_count": 10,
   "id": "divided-bryan",
   "metadata": {},
   "outputs": [
    {
     "name": "stdout",
     "output_type": "stream",
     "text": [
      "(123, 456)\n",
      "(12, 3456)\n",
      "5.0\n",
      "(12345, 67890)\n"
     ]
    }
   ],
   "source": [
    "import math\n",
    "print(split_at(123456,10**3))\n",
    "print(split_at(123456,10**4))\n",
    "print (math.log10(1_234_567_890)//2+1)\n",
    "print(split_at(1_234_567_890,10**(math.ceil(math.log10(1_234_567_890))//2)))"
   ]
  },
  {
   "cell_type": "markdown",
   "id": "stone-forestry",
   "metadata": {},
   "source": [
    "### Initial version of Karatsuba\n",
    "Now, here's a first implementation, using log10 from the Python math library to find the best split point for now. Later, this will be replaced, but for now it gives a quick way to find 'n/2', where n is the number of digits."
   ]
  },
  {
   "cell_type": "code",
   "execution_count": 11,
   "id": "stretch-stress",
   "metadata": {},
   "outputs": [],
   "source": [
    "def RecursiveIntegerMultiply(x, y):\n",
    "    # If one is under 10, this is the base case:\n",
    "    if (x < 10) or (y < 10):\n",
    "        return x * y\n",
    "\n",
    "    # Find the number of (base 10) digits:\n",
    "    m = int(math.log10(max(x,y))//2+1)\n",
    "    split_mult = 10**m\n",
    "    \n",
    "    high_x,low_x = split_at(x,split_mult)\n",
    "    high_y,low_y = split_at(y,split_mult)\n",
    "\n",
    "    z2 = RecursiveIntegerMultiply(high_x,high_y)\n",
    "    z1 = RecursiveIntegerMultiply(high_x+low_x, high_y+low_y)\n",
    "    z0 = RecursiveIntegerMultiply(low_x,low_y)\n",
    "\n",
    "    return z2*(split_mult**2)+(z1-z2-z0)*split_mult+z0"
   ]
  },
  {
   "cell_type": "code",
   "execution_count": 12,
   "id": "regular-dining",
   "metadata": {},
   "outputs": [
    {
     "name": "stdout",
     "output_type": "stream",
     "text": [
      "1000000\n"
     ]
    }
   ],
   "source": [
    "print(RecursiveIntegerMultiply(1000,1000))"
   ]
  },
  {
   "cell_type": "code",
   "execution_count": 13,
   "id": "featured-indication",
   "metadata": {},
   "outputs": [
    {
     "name": "stdout",
     "output_type": "stream",
     "text": [
      "Python:   121932631112635269\n",
      "Function: 121932631112635269\n",
      "\n",
      "Python:   121932631356500531591068431703703700581771069347203169112635269\n",
      "Function: 121932631356500531591068431703703700581771069347203169112635269\n",
      "\n",
      "Python:   975461059740893159506325257564700502268404202972107904421746680684042979980339279277425090639992990874560891109129\n",
      "Function: 975461059740893159506325257564700502268404202972107904421746680684042979980339279277425090639992990874560891109129\n",
      "\n"
     ]
    }
   ],
   "source": [
    "for x,y in (123456789,987654321), \\\n",
    "           (123456789123456789123456789123456789,987654321987654321987654321), \\\n",
    "           (987654321987654321987654321123456789123456789123456789123, \\\n",
    "            987654321987654321987654321123456789123456789123456789123):\n",
    "    print(\"Python:  \",x*y)\n",
    "    print(\"Function:\",RecursiveIntegerMultiply(x,y), end='\\n\\n')\n"
   ]
  },
  {
   "cell_type": "markdown",
   "id": "neither-transformation",
   "metadata": {},
   "source": [
    "## Implementation of BaseInteger class with add() for addition\n",
    "This class will implement the ```add()``` method for addition, as well as initialising with a number as a string. Representing a number as a string means we can easily add different bases (e.g. hex) later. The ```__str__``` method ensures the number can be printed easily.\n",
    "\n",
    "Internally, the design uses an integer array, with the digits in reverse order - so '125' is stored as \\[5, 2, 1\\]. This makes addition and carry over easier, as if we carry over to a higher digit, it can be added easily. The array used is a numpy array set to be int8. Although this implementation will not be 'blazing fast', at least this gives a fast underlying mechanism as numpy is fast and uses fixed areas in memory for the numbers. It also allows for easy implementation of the 'split_at' function and a 'shift' left/right function later."
   ]
  },
  {
   "cell_type": "code",
   "execution_count": 28,
   "id": "mineral-collins",
   "metadata": {},
   "outputs": [],
   "source": [
    "import numpy as np\n",
    "class BaseInteger():\n",
    "    def __init__ (self, x):\n",
    "        x = x.lstrip('0')\n",
    "        if len(x) < 1: x = '0'\n",
    "        self._number = np.zeros(len(x), dtype=np.int8)\n",
    "        i = 0\n",
    "        for digit in reversed(x):\n",
    "            self._number[i] = int(digit)\n",
    "            i += 1\n",
    "\n",
    "    def __str__ (self):\n",
    "        return ''.join(map(str,reversed(self._number.tolist())))\n",
    "        \n",
    "    def add (self, other):\n",
    "        shorter,longer = self._number, other._number\n",
    "        if len(shorter)>len(longer):\n",
    "            longer,shorter = shorter,longer\n",
    "\n",
    "        result = np.zeros(len(longer)+1,dtype=np.int8)\n",
    "        carry = 0\n",
    "        for digit in range(len(shorter)):\n",
    "            add = shorter[digit]+longer[digit]+carry\n",
    "            result[digit]=add%10\n",
    "            carry = add//10\n",
    "        for digit in range(len(shorter),len(longer)):\n",
    "            add = longer[digit]+carry\n",
    "            result[digit]=add%10\n",
    "            carry = add//10\n",
    "        if carry > 0:\n",
    "            result[digit]=carry\n",
    "            \n",
    "        return BaseInteger(''.join(map(str,reversed(result))))\n"
   ]
  },
  {
   "cell_type": "code",
   "execution_count": 29,
   "id": "plastic-petroleum",
   "metadata": {},
   "outputs": [
    {
     "name": "stdout",
     "output_type": "stream",
     "text": [
      "51231235234 + 0 = 51231235234\n",
      "51231235234 + 51231235234 = 12462470468\n"
     ]
    }
   ],
   "source": [
    "for test1, test2 in ('51231235234', '0'), ('51231235234', '51231235234'):\n",
    "    int1 = BaseInteger(test1)\n",
    "    int2 = BaseInteger(test2)\n",
    "    res = int1.add(int2)\n",
    "    print (int1, '+', int2, '=', res)"
   ]
  },
  {
   "cell_type": "markdown",
   "id": "copyrighted-talent",
   "metadata": {},
   "source": [
    "## Implementing multiply() and adding support for different bases\n",
    "The first implementation of the multiply. Note that this is not Karatsuba, as there isn't a subtract method to use! Still, the code checks for this and uses the longer, 4-multiplication mechanism otherwise.\n",
    "\n",
    "Bases are implemented up to base 36. This is chosen, because the digits 0-9 plus letters A-Z allow 36 unique digits. Everything is changed to upper case. Note that multiplying/adding between bases works if the target bases get 'smaller', but the algorithm doesn't correctly deal with 'carryunder' yet - when the bases get larger and so need adjusting for higher digits to be represented correctly.\n",
    "\n",
    "The constructor also adds support for string, numpy arrays and integers to be passed in."
   ]
  },
  {
   "cell_type": "code",
   "execution_count": 30,
   "id": "boxed-stevens",
   "metadata": {},
   "outputs": [],
   "source": [
    "import numpy as np\n",
    "\n",
    "class BaseInteger():\n",
    "    def __init__ (self, x, base=10):\n",
    "        self._base = base\n",
    "        if isinstance(x,(np.ndarray,)):\n",
    "            self._number = x.copy()\n",
    "        elif isinstance(x,(np.int,int)):\n",
    "            self._number = np.asarray((x,),dtype=np.int16)\n",
    "        else:\n",
    "            if len(x) < 1:\n",
    "                self._number = np.zeros(1, dtype=np.int16)\n",
    "            elif (base <= 10): # string assumed!\n",
    "                self._number = np.array(list(map(int,reversed(x))), dtype=np.int16)\n",
    "            else: # could have characters in there.\n",
    "                self._number = np.array(list(map(lambda x: (ord(x) - 48) if 48 <=ord(x)<=57 else ord(x)-65+10,reversed(x.upper()))), dtype=np.int16)\n",
    "\n",
    "        # Calculate any carryovers\n",
    "        self._number = self.propogate_carryovers(self._number,base)\n",
    "        # Clean up any leading zeros:\n",
    "        while len(self._number) > 1 and self._number[-1] == 0:\n",
    "            self._number = np.delete(self._number, -1)\n",
    "        # And a sanity check that all digits are less than the base number\n",
    "        assert (self._number[self._number[:] >= base].sum() == 0), \"Overflow - digit out of range.\"\n",
    "\n",
    "    def __str__ (self):\n",
    "        if (self._base <= 10):\n",
    "            return ''.join(map(str,reversed(self._number.tolist())))\n",
    "        else:\n",
    "            return ''.join(map(lambda x: str(x) if x < 10 else chr(65+x-10), reversed(self._number.tolist())))\n",
    "        \n",
    "    def get_longer_shorter(self,x,y):\n",
    "        if len(x)>len(y):\n",
    "            return x,y\n",
    "        return y,x\n",
    "\n",
    "    def propogate_carryovers(self,result,base):\n",
    "        # Calculate any carryovers\n",
    "        for digit in range(0,len(result)-1):\n",
    "            result[digit+1] += result[digit]//base\n",
    "            result[digit] %= self._base\n",
    "        while result[-1]>=self._base:\n",
    "            result = np.append(result, [result[-1]//self._base])\n",
    "            result[-2] %= self._base\n",
    "\n",
    "        return result\n",
    "\n",
    "    def shift (self, shift_num):\n",
    "        result = BaseInteger(self._number,self._base)\n",
    "        if shift_num == 0:\n",
    "            return result\n",
    "        elif shift_num > 0:\n",
    "            result._number = np.append(np.zeros(shift_num, dtype=np.int16),result._number)\n",
    "        elif len(result._number) + shift_num > 0:\n",
    "            result._number = np.delete(result._number,range(0,-shift_num))\n",
    "        else:\n",
    "            return BaseInteger(0,self._base)\n",
    "        return result\n",
    "\n",
    "    def add (self, other):\n",
    "        longer,shorter=self.get_longer_shorter(self._number,other._number)\n",
    "        # Add the digits\n",
    "        result = shorter[:] + longer [:len(shorter)]\n",
    "        result = np.append(result, longer[len(shorter):])\n",
    "\n",
    "        # Calculate any carryovers\n",
    "        result = self.propogate_carryovers(result,self._base)\n",
    "            \n",
    "        return BaseInteger(result,self._base)\n",
    "\n",
    "\n",
    "    def multiply(self, other):\n",
    "        longer,shorter=self.get_longer_shorter(self._number,other._number)\n",
    "        # If one is single digit, this is the base case:\n",
    "        if len(shorter) == 1:\n",
    "            return BaseInteger(longer[:] * shorter[0],self._base)\n",
    "\n",
    "        # Split the digits into two halves:\n",
    "        m = len(longer) >> 1 # divide by 2\n",
    "        b = BaseInteger(longer[:m],self._base)\n",
    "        a = BaseInteger(longer[m:],self._base)\n",
    "        d = BaseInteger(shorter[:m],self._base)\n",
    "        c = BaseInteger(shorter[m:],self._base)\n",
    "\n",
    "        z2 = a.multiply(c)\n",
    "        z0 = b.multiply(d)\n",
    "        subtract = getattr(self, \"subtract\", None)\n",
    "        if callable(subtract):\n",
    "            # If the subtract function has been implemented,\n",
    "            # use the version with 3 recursive calls and subtractions\n",
    "            z1 = (a.add(b)).multiply(c.add(d))\n",
    "            return z2.shift(2*m)+(z1-z2-z0).shift(m)+z0\n",
    "        else:\n",
    "            # Otherwise use the version with 4 recursive calls and additions\n",
    "            z1a = a.multiply(d)\n",
    "            z1 = b.multiply(c)\n",
    "            return z2.shift(2*m).add((z1.add(z1a)).shift(m)).add(z0)\n"
   ]
  },
  {
   "cell_type": "code",
   "execution_count": 31,
   "id": "nutritional-petroleum",
   "metadata": {},
   "outputs": [
    {
     "name": "stdout",
     "output_type": "stream",
     "text": [
      "Testing BaseInteger class - base 10\n",
      "Adding: 0 + 0 = 0 - Result same as python: True\n",
      "Adding: 1 + 1 = 2 - Result same as python: True\n",
      "Adding: 1 + 10 = 11 - Result same as python: True\n",
      "Adding: 9 + 9 = 18 - Result same as python: True\n",
      "Adding: 1000 + 999 = 1999 - Result same as python: True\n",
      "Adding: 9999999 + 9999999 = 19999998 - Result same as python: True\n",
      "Adding: 9999999 + 1 = 10000000 - Result same as python: True\n",
      "Adding: 1 + 9999999 = 10000000 - Result same as python: True\n",
      "Adding: 9999999 + 0 = 9999999 - Result same as python: True\n",
      "Adding: 987654321987654321987654321987654321987654321 + 9 = 987654321987654321987654321987654321987654330 - Result same as python: True\n",
      "Adding: 987654321987654321987654321987654321987654321 + 987654321987654321987654321987654321987654321 = 1975308643975308643975308643975308643975308642 - Result same as python: True\n",
      "\n",
      "Testing digit shift algorithm\n",
      "Shift 2 left 1: 20\n",
      "Shift 2 left 5: 200000\n",
      "Shift 2 right 1: 0\n",
      "Shift 1000 right 3: 1\n",
      "Shift 2 left 5 and right 1: 20\n",
      "\n",
      "Testing Karatsuba multiplication algorithm\n",
      "Multiplying: 0 x 0 = 0 - Result same as python: True\n",
      "Multiplying: 1 x 1 = 1 - Result same as python: True\n",
      "Multiplying: 1 x 10 = 10 - Result same as python: True\n",
      "Multiplying: 9 x 9 = 81 - Result same as python: True\n",
      "Multiplying: 1000 x 999 = 999000 - Result same as python: True\n",
      "Multiplying: 9999999 x 9999999 = 99999980000001 - Result same as python: True\n",
      "Multiplying: 9999999 x 1 = 9999999 - Result same as python: True\n",
      "Multiplying: 1 x 9999999 = 9999999 - Result same as python: True\n",
      "Multiplying: 9999999 x 0 = 0 - Result same as python: True\n",
      "Multiplying: 987654321987654321987654321987654321987654321 x 9 = 8888888897888888897888888897888888897888888889 - Result same as python: True\n",
      "Multiplying: 987654321987654321987654321987654321987654321 x 987654321987654321987654321987654321987654321 = 975461059740893159506325259271757359037189456851699439086267339320835239555403139789971041 - Result same as python: True\n",
      "\n",
      "Testing alternative bases:\n",
      "100\n",
      "1000\n",
      "110101\n",
      "1110 0b111 0b1110\n",
      "110001 0b111 0b110001\n",
      "   1110100011010100100001101000101110000001 0b11110100001000111111 \n",
      " 0b1110100011010100100001101000101110000001\n",
      "31410510573026643\n",
      "   64 0x64\n",
      "   8868CF70AA60A9\n",
      "   1FFFE\n",
      "   100FFFFFFFFFFFFFFFFFFFFFFFFFFFFFFE\n",
      "   FFFFFFFFFFFFFFFFFFFFFFFFFFFFFFEFF0000000000000000000000000000001\n",
      "   KMP13579BDFHJLO02468ACEGII\n",
      "   450I6J4G2H956E306O0FI9GE3A979EM4CJP0OH384HKBG79MIN93\n",
      "   1OLO6ML2KOEIAIH7GJHB1G3H5MFEGC062EF33FBH5017I5LC2I5FM\n"
     ]
    }
   ],
   "source": [
    "# Test cases\n",
    "print (\"Testing BaseInteger class - base 10\")\n",
    "for x,y in ('0','0'), ('1','1'), ('1','10'),('9','9'), ('1000','999'), \\\n",
    "           ('9999999','9999999'), ('9999999','1'), ('1', '9999999'), ('9999999','0'), \\\n",
    "           ('987654321987654321987654321987654321987654321','9'), \\\n",
    "           ('987654321987654321987654321987654321987654321',\n",
    "            '987654321987654321987654321987654321987654321'):\n",
    "    x_test = BaseInteger(x)\n",
    "    y_test = BaseInteger(y)\n",
    "    result = x_test.add(y_test)\n",
    "    print (\"Adding:\",x,'+',y,'=',result, '- Result same as python:', \\\n",
    "           (int(x)+int(y) == int(result.__str__())) )\n",
    "\n",
    "print (\"\\nTesting digit shift algorithm\")\n",
    "shifty = BaseInteger(2)\n",
    "print('Shift 2 left 1:',shifty.shift(1))\n",
    "print('Shift 2 left 5:',shifty.shift(5))\n",
    "print('Shift 2 right 1:',shifty.shift(-1))\n",
    "print('Shift 1000 right 3:',BaseInteger(1000).shift(-3))\n",
    "print('Shift 2 left 5 and right 1:',shifty.shift(5).shift(-4))\n",
    "\n",
    "print (\"\\nTesting Karatsuba multiplication algorithm\")\n",
    "for x,y in ('0','0'), ('1','1'), ('1','10'),('9','9'), ('1000','999'), \\\n",
    "           ('9999999','9999999'), ('9999999','1'), ('1', '9999999'), ('9999999','0'), \\\n",
    "           ('987654321987654321987654321987654321987654321','9'), \\\n",
    "           ('987654321987654321987654321987654321987654321',\n",
    "            '987654321987654321987654321987654321987654321'):\n",
    "    x_test = BaseInteger(x)\n",
    "    y_test = BaseInteger(y)\n",
    "    result = x_test.multiply(y_test)\n",
    "    print (\"Multiplying:\",x,'x',y,'=',result, '- Result same as python:', \\\n",
    "           (int(x)*int(y) == int(result.__str__())) )\n",
    "print ()\n",
    "print('Testing alternative bases:')\n",
    "print(BaseInteger('100',base=2))\n",
    "print(BaseInteger('100',base=2).add(BaseInteger('100',base=2)))\n",
    "print(BaseInteger('10000',base=2).add(BaseInteger('100101',base=2)))\n",
    "print(BaseInteger('111',base=2).add(BaseInteger('111',base=2)),bin(7),bin(7+7))\n",
    "print(BaseInteger('111',base=2).multiply(BaseInteger('111',base=2)),bin(7),bin(7*7))\n",
    "print('  ',BaseInteger('11110100001000111111',base=2).multiply(BaseInteger('11110100001000111111',base=2)),bin(999999),\"\\n\",bin(999999*999999))\n",
    "print(BaseInteger('123434561',base=8).multiply(BaseInteger('234267123',base=8)))\n",
    "print('  ',BaseInteger('A',base=16).multiply(BaseInteger('A',base=16)), hex(100))\n",
    "print('  ',BaseInteger('BADF00D',base=16).multiply(BaseInteger('BADF00D',base=16)))\n",
    "print('  ',BaseInteger('FFFF',base=16).add(BaseInteger('FFFF',base=16)))\n",
    "print('  ',BaseInteger('FFFFFFFFFFFFFFFFFFFFFFFFFFFFFFFFF',base=16).add(BaseInteger('FFFFFFFFFFFFFFFFFFFFFFFFFFFFFFF',base=16)))\n",
    "print('  ',BaseInteger('FFFFFFFFFFFFFFFFFFFFFFFFFFFFFFFFF',base=16).multiply(BaseInteger('FFFFFFFFFFFFFFFFFFFFFFFFFFFFFFF',base=16)))\n",
    "\n",
    "print('  ',BaseInteger('ABCDEFGHIJKLMNOPQRSTUVWXYZ',base=26).add(BaseInteger('ABCDEFGHIJKLMNOPQRSTUVWXYZ',base=26)))\n",
    "print('  ',BaseInteger('ABCDEFGHIJKLMNOPQRSTUVWXYZ',base=26).multiply(BaseInteger('ABCDEFGHIJKLMNOPQRSTUVWXYZ',base=26)))\n",
    "print('  ',BaseInteger('ABCDEFGHIJKLMNOPQRSTUVWXYZ'[::-1],base=26).multiply(BaseInteger('ABCDEFGHIJKLMNOPQRSTUVWXYZ'[::-1],base=26)))"
   ]
  },
  {
   "cell_type": "markdown",
   "id": "synthetic-citizen",
   "metadata": {},
   "source": [
    "## Speed tests\n",
    "The Python implementation is expected to be a lot faster than this one. Still, let's see:"
   ]
  },
  {
   "cell_type": "code",
   "execution_count": 32,
   "id": "ceramic-acoustic",
   "metadata": {},
   "outputs": [
    {
     "name": "stdout",
     "output_type": "stream",
     "text": [
      "199 ns ± 3.08 ns per loop (mean ± std. dev. of 7 runs, 10000000 loops each)\n"
     ]
    }
   ],
   "source": [
    "%%timeit\n",
    "975461059740893159506325259271757359037189456851699439086267339320835239555403139789971041*975461059740893159506325259271757359037189456851699439086267339320835239555403139789971041"
   ]
  },
  {
   "cell_type": "code",
   "execution_count": 33,
   "id": "lesbian-suspension",
   "metadata": {},
   "outputs": [
    {
     "name": "stdout",
     "output_type": "stream",
     "text": [
      "449 ms ± 16.9 ms per loop (mean ± std. dev. of 7 runs, 1 loop each)\n"
     ]
    }
   ],
   "source": [
    "%%timeit\n",
    "BaseInteger('975461059740893159506325259271757359037189456851699439086267339320835239555403139789971041').multiply \\\n",
    "(BaseInteger('975461059740893159506325259271757359037189456851699439086267339320835239555403139789971041'))"
   ]
  },
  {
   "cell_type": "markdown",
   "id": "scientific-behavior",
   "metadata": {},
   "source": [
    "In fact, our implementation is about 2500 times slower. Still not bad to say that Python is using fast C implementation underneath."
   ]
  },
  {
   "cell_type": "markdown",
   "id": "union-pharmacology",
   "metadata": {},
   "source": [
    "## Adding infix operators\n",
    "We now update our implementation to add infix operators. The functions to do this are listed in the [Python 3 documentation on emulating numeric types](https://docs.python.org/3/reference/datamodel.html#emulating-numeric-types)"
   ]
  },
  {
   "cell_type": "code",
   "execution_count": 34,
   "id": "superb-pension",
   "metadata": {},
   "outputs": [],
   "source": [
    "# Create a new class that extends the BaseInteger class and adds in the operator support for + and *\n",
    "class BaseInteger2(BaseInteger):\n",
    "    def __init__ (self, x, base=10):\n",
    "        super().__init__(x,base)\n",
    "\n",
    "    def __add__(self, other):\n",
    "        return self.add(other)\n",
    "    def __mul__(self, other):\n",
    "        return self.multiply(other)\n",
    "        "
   ]
  },
  {
   "cell_type": "code",
   "execution_count": 35,
   "id": "ordered-former",
   "metadata": {},
   "outputs": [
    {
     "name": "stdout",
     "output_type": "stream",
     "text": [
      "Testing + infix operator for BaseInteger2 class\n",
      "Adding: 0 + 0 = 0 - Result same as python: True\n",
      "Adding: 1 + 1 = 2 - Result same as python: True\n",
      "Adding: 1 + 10 = 11 - Result same as python: True\n",
      "Adding: 9 + 9 = 18 - Result same as python: True\n",
      "Adding: 1000 + 999 = 1999 - Result same as python: True\n",
      "Adding: 9999999 + 9999999 = 19999998 - Result same as python: True\n",
      "Adding: 9999999 + 1 = 10000000 - Result same as python: True\n",
      "Adding: 1 + 9999999 = 10000000 - Result same as python: True\n",
      "Adding: 9999999 + 0 = 9999999 - Result same as python: True\n",
      "Adding: 987654321987654321987654321987654321987654321 + 9 = 987654321987654321987654321987654321987654330 - Result same as python: True\n",
      "Adding: 987654321987654321987654321987654321987654321 + 987654321987654321987654321987654321987654321 = 1975308643975308643975308643975308643975308642 - Result same as python: True\n",
      "\n",
      "Testing * infix operator - uses Karatsuba multiplication algorithm\n",
      "Multiplying: 0 x 0 = 0 - Result same as python: True\n",
      "Multiplying: 1 x 1 = 1 - Result same as python: True\n",
      "Multiplying: 1 x 10 = 10 - Result same as python: True\n",
      "Multiplying: 9 x 9 = 81 - Result same as python: True\n",
      "Multiplying: 1000 x 999 = 999000 - Result same as python: True\n",
      "Multiplying: 9999999 x 9999999 = 99999980000001 - Result same as python: True\n",
      "Multiplying: 9999999 x 1 = 9999999 - Result same as python: True\n",
      "Multiplying: 1 x 9999999 = 9999999 - Result same as python: True\n",
      "Multiplying: 9999999 x 0 = 0 - Result same as python: True\n",
      "Multiplying: 987654321987654321987654321987654321987654321 x 9 = 8888888897888888897888888897888888897888888889 - Result same as python: True\n",
      "Multiplying: 987654321987654321987654321987654321987654321 x 987654321987654321987654321987654321987654321 = 975461059740893159506325259271757359037189456851699439086267339320835239555403139789971041 - Result same as python: True\n",
      "\n",
      "Testing alternative bases:\n",
      "100\n",
      "1000\n",
      "110101\n",
      "1110 0b111 0b1110\n",
      "110001 0b111 0b110001\n",
      "   1110100011010100100001101000101110000001 0b11110100001000111111 \n",
      " 0b1110100011010100100001101000101110000001\n",
      "31410510573026643\n",
      "   64\n",
      "   8868CF70AA60A9\n",
      "   1FFFE\n",
      "   100FFFFFFFFFFFFFFFFFFFFFFFFFFFFFFE\n",
      "   FFFFFFFFFFFFFFFFFFFFFFFFFFFFFFEFF0000000000000000000000000000001\n",
      "   KMP13579BDFHJLO02468ACEGII\n",
      "   450I6J4G2H956E306O0FI9GE3A979EM4CJP0OH384HKBG79MIN93\n",
      "   1OLO6ML2KOEIAIH7GJHB1G3H5MFEGC062EF33FBH5017I5LC2I5FM\n"
     ]
    }
   ],
   "source": [
    "# Test cases\n",
    "print (\"Testing + infix operator for BaseInteger2 class\")\n",
    "for x,y in ('0','0'), ('1','1'), ('1','10'),('9','9'), ('1000','999'), \\\n",
    "           ('9999999','9999999'), ('9999999','1'), ('1', '9999999'), ('9999999','0'), \\\n",
    "           ('987654321987654321987654321987654321987654321','9'), \\\n",
    "           ('987654321987654321987654321987654321987654321',\n",
    "            '987654321987654321987654321987654321987654321'):\n",
    "    x_test = BaseInteger2(x)\n",
    "    y_test = BaseInteger2(y)\n",
    "    result = x_test + y_test\n",
    "    print (\"Adding:\",x,'+',y,'=',result, '- Result same as python:', \\\n",
    "           (int(x)+int(y) == int(result.__str__())) )\n",
    "\n",
    "#print (\"\\nTesting digit shift algorithm\")\n",
    "#shifty = BaseInteger2(2)\n",
    "# Implement __rshift__ for >> and __lshift__ for <<\n",
    "#print('Shift 2 left 1:',shifty.shift(1))\n",
    "#print('Shift 2 left 5:',shifty.shift(5))\n",
    "#print('Shift 2 right 1:',shifty.shift(-1))\n",
    "#print('Shift 1000 right 3:',BaseInteger(1000).shift(-3))\n",
    "#print('Shift 2 left 5 and right 1:',shifty.shift(5).shift(-4))\n",
    "\n",
    "print (\"\\nTesting * infix operator - uses Karatsuba multiplication algorithm\")\n",
    "for x,y in ('0','0'), ('1','1'), ('1','10'),('9','9'), ('1000','999'), \\\n",
    "           ('9999999','9999999'), ('9999999','1'), ('1', '9999999'), ('9999999','0'), \\\n",
    "           ('987654321987654321987654321987654321987654321','9'), \\\n",
    "           ('987654321987654321987654321987654321987654321',\n",
    "            '987654321987654321987654321987654321987654321'):\n",
    "    x_test = BaseInteger2(x)\n",
    "    y_test = BaseInteger2(y)\n",
    "    result = x_test * y_test\n",
    "    print (\"Multiplying:\",x,'x',y,'=',result, '- Result same as python:', \\\n",
    "           (int(x)*int(y) == int(result.__str__())) )\n",
    "print ()\n",
    "print('Testing alternative bases:')\n",
    "print(BaseInteger2('100',base=2))\n",
    "print(BaseInteger2('100',base=2) + BaseInteger2('100',base=2))\n",
    "print(BaseInteger2('10000',base=2) + BaseInteger2('100101',base=2))\n",
    "print(BaseInteger2('111',base=2) + BaseInteger2('111',base=2),bin(7),bin(7+7))\n",
    "print(BaseInteger2('111',base=2) * BaseInteger2('111',base=2),bin(7),bin(7*7))\n",
    "print('  ',BaseInteger2('11110100001000111111',base=2) * BaseInteger2('11110100001000111111',base=2),bin(999999),\"\\n\",bin(999999*999999))\n",
    "print(BaseInteger2('123434561',base=8) * BaseInteger2('234267123',base=8))\n",
    "print('  ',BaseInteger2('A',base=16) * BaseInteger2('A',base=16)), hex(100)\n",
    "print('  ',BaseInteger2('BADF00D',base=16) * BaseInteger2('BADF00D',base=16))\n",
    "print('  ',BaseInteger2('FFFF',base=16) + BaseInteger2('FFFF',base=16))\n",
    "print('  ',BaseInteger2('FFFFFFFFFFFFFFFFFFFFFFFFFFFFFFFFF',base=16) + BaseInteger2('FFFFFFFFFFFFFFFFFFFFFFFFFFFFFFF',base=16))\n",
    "print('  ',BaseInteger2('FFFFFFFFFFFFFFFFFFFFFFFFFFFFFFFFF',base=16) * BaseInteger2('FFFFFFFFFFFFFFFFFFFFFFFFFFFFFFF',base=16))\n",
    "\n",
    "print('  ',BaseInteger2('ABCDEFGHIJKLMNOPQRSTUVWXYZ',base=26) + BaseInteger2('ABCDEFGHIJKLMNOPQRSTUVWXYZ',base=26))\n",
    "print('  ',BaseInteger2('ABCDEFGHIJKLMNOPQRSTUVWXYZ',base=26) * BaseInteger2('ABCDEFGHIJKLMNOPQRSTUVWXYZ',base=26))\n",
    "print('  ',BaseInteger2('ABCDEFGHIJKLMNOPQRSTUVWXYZ'[::-1],base=26) * BaseInteger2('ABCDEFGHIJKLMNOPQRSTUVWXYZ'[::-1],base=26))"
   ]
  },
  {
   "cell_type": "markdown",
   "id": "creative-affair",
   "metadata": {},
   "source": [
    "## Subtract() and negative numbers\n",
    "Implementing subtract also means supporting negative numbers. Once subtract is implemented, retest the multiplication mechanism as it will use the Karatsuba version when it detects a subtract function. "
   ]
  },
  {
   "cell_type": "markdown",
   "id": "unusual-charge",
   "metadata": {},
   "source": [
    "## Powers"
   ]
  },
  {
   "cell_type": "markdown",
   "id": "wrong-feelings",
   "metadata": {},
   "source": [
    "## Division\n",
    "A simple implementation would be to repeatedly subtract the number! We'll first try the long division implementation from school. "
   ]
  },
  {
   "cell_type": "markdown",
   "id": "detected-modem",
   "metadata": {},
   "source": [
    "## Final testing and abstraction\n"
   ]
  },
  {
   "cell_type": "code",
   "execution_count": null,
   "id": "chinese-algeria",
   "metadata": {},
   "outputs": [],
   "source": []
  }
 ],
 "metadata": {
  "kernelspec": {
   "display_name": "Python 3",
   "language": "python",
   "name": "python3"
  },
  "language_info": {
   "codemirror_mode": {
    "name": "ipython",
    "version": 3
   },
   "file_extension": ".py",
   "mimetype": "text/x-python",
   "name": "python",
   "nbconvert_exporter": "python",
   "pygments_lexer": "ipython3",
   "version": "3.8.5"
  }
 },
 "nbformat": 4,
 "nbformat_minor": 5
}
