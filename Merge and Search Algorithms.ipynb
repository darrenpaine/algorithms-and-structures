{
 "cells": [
  {
   "cell_type": "markdown",
   "id": "transsexual-supply",
   "metadata": {},
   "source": [
    "# Implementation of sorting algorithms\n",
    "Implementing MergeSort"
   ]
  },
  {
   "cell_type": "code",
   "execution_count": 1,
   "id": "minus-short",
   "metadata": {},
   "outputs": [],
   "source": [
    "# Merge two sorted lists\n",
    "def merge_sorted_lists(list1, list2):\n",
    "    index1 = index2 = 0\n",
    "    out_list = []\n",
    "    while index1 < len(list1) and index2 < len(list2):\n",
    "        if list1[index1] < list2[index2]:\n",
    "            out_list.append (list1[index1])\n",
    "            index1 += 1\n",
    "        else:\n",
    "            out_list.append (list2[index2])\n",
    "            index2 += 1\n",
    "    out_list += list1[index1:]\n",
    "    out_list += list2[index2:]\n",
    "    return out_list\n"
   ]
  },
  {
   "cell_type": "code",
   "execution_count": 2,
   "id": "reserved-roberts",
   "metadata": {},
   "outputs": [
    {
     "data": {
      "text/plain": [
       "[1, 2, 3, 4, 5, 6, 7, 8]"
      ]
     },
     "execution_count": 2,
     "metadata": {},
     "output_type": "execute_result"
    }
   ],
   "source": [
    "merge_sorted_lists([2,4,7,8],[1,3,5,6])"
   ]
  },
  {
   "cell_type": "code",
   "execution_count": 3,
   "id": "fitted-central",
   "metadata": {},
   "outputs": [],
   "source": [
    "def merge_sort(values):\n",
    "    if len(values) < 2:\n",
    "        return values\n",
    "    midpoint = len(values)//2\n",
    "    sorted_first_half = merge_sort(values[:midpoint])\n",
    "    sorted_second_half = merge_sort(values[midpoint:])\n",
    "    \n",
    "    return merge_sorted_lists (sorted_first_half,\n",
    "                               sorted_second_half)\n"
   ]
  },
  {
   "cell_type": "code",
   "execution_count": 4,
   "id": "metric-crack",
   "metadata": {},
   "outputs": [
    {
     "data": {
      "text/plain": [
       "[1, 2, 3, 4, 5, 6, 7, 8, 9]"
      ]
     },
     "execution_count": 4,
     "metadata": {},
     "output_type": "execute_result"
    }
   ],
   "source": [
    "merge_sort ([9, 2, 4, 7, 8, 1, 3, 5, 6])"
   ]
  },
  {
   "cell_type": "code",
   "execution_count": null,
   "id": "quality-nickname",
   "metadata": {},
   "outputs": [],
   "source": []
  }
 ],
 "metadata": {
  "kernelspec": {
   "display_name": "Python 3",
   "language": "python",
   "name": "python3"
  },
  "language_info": {
   "codemirror_mode": {
    "name": "ipython",
    "version": 3
   },
   "file_extension": ".py",
   "mimetype": "text/x-python",
   "name": "python",
   "nbconvert_exporter": "python",
   "pygments_lexer": "ipython3",
   "version": "3.8.5"
  }
 },
 "nbformat": 4,
 "nbformat_minor": 5
}
